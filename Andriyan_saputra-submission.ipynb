{
 "cells": [
  {
   "cell_type": "markdown",
   "id": "twelve-lending",
   "metadata": {},
   "source": [
    "### Import Libraries"
   ]
  },
  {
   "cell_type": "code",
   "execution_count": 1,
   "id": "canadian-tournament",
   "metadata": {},
   "outputs": [],
   "source": [
    "from datetime import datetime\n",
    "import matplotlib\n",
    "import matplotlib.pyplot as plt\n",
    "import numpy as np\n",
    "import pandas as pd\n",
    "import statsmodels.api as sm\n",
    "import seaborn as sns\n",
    "import sys, os\n",
    "import warnings\n",
    "warnings.simplefilter(action='ignore')"
   ]
  },
  {
   "cell_type": "markdown",
   "id": "posted-nickname",
   "metadata": {},
   "source": [
    "###  Upload Data Dasar: findata_challenge_train.csv"
   ]
  },
  {
   "cell_type": "code",
   "execution_count": 2,
   "id": "standing-pavilion",
   "metadata": {},
   "outputs": [],
   "source": [
    "train = pd.read_csv('findata_challenge_train.csv')"
   ]
  },
  {
   "cell_type": "code",
   "execution_count": 3,
   "id": "spoken-paraguay",
   "metadata": {},
   "outputs": [
    {
     "data": {
      "text/html": [
       "<div>\n",
       "<style scoped>\n",
       "    .dataframe tbody tr th:only-of-type {\n",
       "        vertical-align: middle;\n",
       "    }\n",
       "\n",
       "    .dataframe tbody tr th {\n",
       "        vertical-align: top;\n",
       "    }\n",
       "\n",
       "    .dataframe thead th {\n",
       "        text-align: right;\n",
       "    }\n",
       "</style>\n",
       "<table border=\"1\" class=\"dataframe\">\n",
       "  <thead>\n",
       "    <tr style=\"text-align: right;\">\n",
       "      <th></th>\n",
       "      <th>x0</th>\n",
       "      <th>x1</th>\n",
       "      <th>x2</th>\n",
       "      <th>x3</th>\n",
       "      <th>x4</th>\n",
       "      <th>x5</th>\n",
       "      <th>x6</th>\n",
       "      <th>x7</th>\n",
       "      <th>x8</th>\n",
       "      <th>x9</th>\n",
       "      <th>...</th>\n",
       "      <th>x116</th>\n",
       "      <th>x117</th>\n",
       "      <th>x118</th>\n",
       "      <th>x119</th>\n",
       "      <th>x120</th>\n",
       "      <th>x121</th>\n",
       "      <th>x122</th>\n",
       "      <th>x123</th>\n",
       "      <th>x124</th>\n",
       "      <th>y</th>\n",
       "    </tr>\n",
       "  </thead>\n",
       "  <tbody>\n",
       "    <tr>\n",
       "      <th>0</th>\n",
       "      <td>0.067563</td>\n",
       "      <td>-2.172492</td>\n",
       "      <td>-1.713774</td>\n",
       "      <td>-0.146854</td>\n",
       "      <td>-0.685219</td>\n",
       "      <td>-0.933838</td>\n",
       "      <td>4.0</td>\n",
       "      <td>2.0</td>\n",
       "      <td>-4.476051</td>\n",
       "      <td>-1.472306</td>\n",
       "      <td>...</td>\n",
       "      <td>4.607926</td>\n",
       "      <td>52.0</td>\n",
       "      <td>1.0</td>\n",
       "      <td>0.773809</td>\n",
       "      <td>0.766531</td>\n",
       "      <td>6.307142</td>\n",
       "      <td>9.074515</td>\n",
       "      <td>-2.694049</td>\n",
       "      <td>0.330964</td>\n",
       "      <td>0</td>\n",
       "    </tr>\n",
       "    <tr>\n",
       "      <th>1</th>\n",
       "      <td>0.099622</td>\n",
       "      <td>0.584803</td>\n",
       "      <td>-6.089758</td>\n",
       "      <td>-0.252186</td>\n",
       "      <td>-0.334912</td>\n",
       "      <td>-4.671281</td>\n",
       "      <td>4.0</td>\n",
       "      <td>2.0</td>\n",
       "      <td>-0.387076</td>\n",
       "      <td>-0.664552</td>\n",
       "      <td>...</td>\n",
       "      <td>15.889763</td>\n",
       "      <td>53.0</td>\n",
       "      <td>1.0</td>\n",
       "      <td>7.065852</td>\n",
       "      <td>0.994304</td>\n",
       "      <td>-0.028411</td>\n",
       "      <td>-21.472850</td>\n",
       "      <td>5.626095</td>\n",
       "      <td>1.293455</td>\n",
       "      <td>0</td>\n",
       "    </tr>\n",
       "    <tr>\n",
       "      <th>2</th>\n",
       "      <td>0.648421</td>\n",
       "      <td>3.881137</td>\n",
       "      <td>0.961359</td>\n",
       "      <td>0.217361</td>\n",
       "      <td>-1.471850</td>\n",
       "      <td>-0.975352</td>\n",
       "      <td>5.0</td>\n",
       "      <td>1.0</td>\n",
       "      <td>-0.850146</td>\n",
       "      <td>-4.011487</td>\n",
       "      <td>...</td>\n",
       "      <td>13.770410</td>\n",
       "      <td>53.0</td>\n",
       "      <td>1.0</td>\n",
       "      <td>-8.598553</td>\n",
       "      <td>-2.958302</td>\n",
       "      <td>-12.784030</td>\n",
       "      <td>-36.855873</td>\n",
       "      <td>0.356093</td>\n",
       "      <td>1.499790</td>\n",
       "      <td>0</td>\n",
       "    </tr>\n",
       "    <tr>\n",
       "      <th>3</th>\n",
       "      <td>0.005775</td>\n",
       "      <td>-2.726153</td>\n",
       "      <td>2.891378</td>\n",
       "      <td>-0.038325</td>\n",
       "      <td>2.280847</td>\n",
       "      <td>1.761478</td>\n",
       "      <td>3.0</td>\n",
       "      <td>3.0</td>\n",
       "      <td>9.116188</td>\n",
       "      <td>-4.610151</td>\n",
       "      <td>...</td>\n",
       "      <td>5.904901</td>\n",
       "      <td>50.0</td>\n",
       "      <td>1.0</td>\n",
       "      <td>8.194975</td>\n",
       "      <td>-7.798308</td>\n",
       "      <td>10.910515</td>\n",
       "      <td>15.226094</td>\n",
       "      <td>-10.440813</td>\n",
       "      <td>-0.735116</td>\n",
       "      <td>0</td>\n",
       "    </tr>\n",
       "    <tr>\n",
       "      <th>4</th>\n",
       "      <td>0.044396</td>\n",
       "      <td>2.803576</td>\n",
       "      <td>-1.923381</td>\n",
       "      <td>-0.116657</td>\n",
       "      <td>-1.574199</td>\n",
       "      <td>6.098627</td>\n",
       "      <td>3.0</td>\n",
       "      <td>1.0</td>\n",
       "      <td>-13.956141</td>\n",
       "      <td>13.785099</td>\n",
       "      <td>...</td>\n",
       "      <td>-14.603703</td>\n",
       "      <td>47.0</td>\n",
       "      <td>0.0</td>\n",
       "      <td>2.330789</td>\n",
       "      <td>-8.249825</td>\n",
       "      <td>-12.680490</td>\n",
       "      <td>40.192302</td>\n",
       "      <td>-5.037065</td>\n",
       "      <td>1.679262</td>\n",
       "      <td>1</td>\n",
       "    </tr>\n",
       "  </tbody>\n",
       "</table>\n",
       "<p>5 rows × 126 columns</p>\n",
       "</div>"
      ],
      "text/plain": [
       "         x0        x1        x2        x3        x4        x5   x6   x7  \\\n",
       "0  0.067563 -2.172492 -1.713774 -0.146854 -0.685219 -0.933838  4.0  2.0   \n",
       "1  0.099622  0.584803 -6.089758 -0.252186 -0.334912 -4.671281  4.0  2.0   \n",
       "2  0.648421  3.881137  0.961359  0.217361 -1.471850 -0.975352  5.0  1.0   \n",
       "3  0.005775 -2.726153  2.891378 -0.038325  2.280847  1.761478  3.0  3.0   \n",
       "4  0.044396  2.803576 -1.923381 -0.116657 -1.574199  6.098627  3.0  1.0   \n",
       "\n",
       "          x8         x9  ...       x116  x117  x118      x119      x120  \\\n",
       "0  -4.476051  -1.472306  ...   4.607926  52.0   1.0  0.773809  0.766531   \n",
       "1  -0.387076  -0.664552  ...  15.889763  53.0   1.0  7.065852  0.994304   \n",
       "2  -0.850146  -4.011487  ...  13.770410  53.0   1.0 -8.598553 -2.958302   \n",
       "3   9.116188  -4.610151  ...   5.904901  50.0   1.0  8.194975 -7.798308   \n",
       "4 -13.956141  13.785099  ... -14.603703  47.0   0.0  2.330789 -8.249825   \n",
       "\n",
       "        x121       x122       x123      x124  y  \n",
       "0   6.307142   9.074515  -2.694049  0.330964  0  \n",
       "1  -0.028411 -21.472850   5.626095  1.293455  0  \n",
       "2 -12.784030 -36.855873   0.356093  1.499790  0  \n",
       "3  10.910515  15.226094 -10.440813 -0.735116  0  \n",
       "4 -12.680490  40.192302  -5.037065  1.679262  1  \n",
       "\n",
       "[5 rows x 126 columns]"
      ]
     },
     "execution_count": 3,
     "metadata": {},
     "output_type": "execute_result"
    }
   ],
   "source": [
    "train.head()"
   ]
  },
  {
   "cell_type": "markdown",
   "id": "beautiful-measurement",
   "metadata": {},
   "source": [
    "#### Data Nasabah: x0 - x124 (125 kolom): Merupakan data nasabah yang telah dinormalisasi dan dirahasiakan nama kolomnya\n",
    "#### Variabel target: y - Apakah nasabah akan chrun? (1: iya, 0: tidak)\n",
    "#### Note: terdapat beberapa Missing Value pada data"
   ]
  },
  {
   "cell_type": "markdown",
   "id": "challenging-bahrain",
   "metadata": {},
   "source": [
    "## EDA (Exploratory Data Analysis)"
   ]
  },
  {
   "cell_type": "code",
   "execution_count": 4,
   "id": "precise-integration",
   "metadata": {},
   "outputs": [
    {
     "data": {
      "text/plain": [
       "(100000, 126)"
      ]
     },
     "execution_count": 4,
     "metadata": {},
     "output_type": "execute_result"
    }
   ],
   "source": [
    "train.shape"
   ]
  },
  {
   "cell_type": "code",
   "execution_count": 5,
   "id": "received-coordinator",
   "metadata": {},
   "outputs": [
    {
     "data": {
      "text/plain": [
       "Index(['x0', 'x1', 'x2', 'x3', 'x4', 'x5', 'x6', 'x7', 'x8', 'x9',\n",
       "       ...\n",
       "       'x116', 'x117', 'x118', 'x119', 'x120', 'x121', 'x122', 'x123', 'x124',\n",
       "       'y'],\n",
       "      dtype='object', length=121)"
      ]
     },
     "execution_count": 5,
     "metadata": {},
     "output_type": "execute_result"
    }
   ],
   "source": [
    "numeric_features = train.select_dtypes(include=[np.number])\n",
    "numeric_features.columns"
   ]
  },
  {
   "cell_type": "code",
   "execution_count": 6,
   "id": "social-wilderness",
   "metadata": {
    "scrolled": true
   },
   "outputs": [
    {
     "data": {
      "text/plain": [
       "Index(['x21', 'x79', 'x89', 'x108', 'x112'], dtype='object')"
      ]
     },
     "execution_count": 6,
     "metadata": {},
     "output_type": "execute_result"
    }
   ],
   "source": [
    "cat_features = train.select_dtypes(include=object)\n",
    "cat_features.columns"
   ]
  },
  {
   "cell_type": "markdown",
   "id": "adaptive-filename",
   "metadata": {},
   "source": [
    "#### Berdasarkan pembagian jenis data, terdapat 121 kolom data dengan jenis data numerical dan 5 kolom jenis data categorical \n",
    "#### Apabila kita melakukan analisa lebih jauh, terdapat 2 kolom berupa tahun, yaitu X80 dan X93. Dalam hal ini penulis mengkateogorikan tahun sebagai jenis data categorical"
   ]
  },
  {
   "cell_type": "code",
   "execution_count": 7,
   "id": "instant-secretariat",
   "metadata": {},
   "outputs": [],
   "source": [
    "## Converting Data Type: X80, X93\n",
    "\n",
    "train['x80'] = train['x80'].astype(str)\n",
    "train['x93'] = train['x93'].astype(str)"
   ]
  },
  {
   "cell_type": "code",
   "execution_count": 8,
   "id": "unique-spank",
   "metadata": {},
   "outputs": [],
   "source": [
    "train_cat = train[['x21','x79','x80','x89','x93','x108','x112']]"
   ]
  },
  {
   "cell_type": "code",
   "execution_count": 9,
   "id": "tracked-chuck",
   "metadata": {},
   "outputs": [
    {
     "name": "stdout",
     "output_type": "stream",
     "text": [
      "['Jun' 'Jul' 'May' 'Apr' 'Aug' 'Sep' 'Jan' 'Oct' 'Mar' nan 'Feb' 'Nov'\n",
      " 'Dec']\n",
      "['Laki-laki' 'Perempuan' nan]\n",
      "['2019.0' '2018.0' '2017.0' '2020.0' '2016.0' 'nan' '2021.0' '2015.0']\n",
      "['Jambi' 'Sumatera Barat' 'Sumatera Selatan' 'Kalimantan Utara'\n",
      " 'Kalimantan Barat' 'Kalimantan Selatan' 'Bangka Belitung'\n",
      " 'Sumatera Utara' 'Gorontalo' 'Sulawesi Barat' 'Kalimantan Tengah'\n",
      " 'Kalimantan Timur' 'Sulawesi Utara' 'Jawa Timur' 'Sulawesi Tenggara'\n",
      " 'Bengkulu' 'Sulawesi Tengah' 'Jawa Tengah' nan 'Jawa Barat' 'Bali' 'NTB'\n",
      " 'DKI Jakarta' 'DI Yogyakarta' 'Banten' 'NTT' 'Maluku Utara' 'Maluku']\n",
      "['2010.0' '2009.0' '2014.0' '2011.0' '2012.0' '2007.0' '2005.0' '2008.0'\n",
      " '2013.0' '2016.0' '2006.0' '2015.0' '2017.0' '2004.0' '2019.0' '2003.0'\n",
      " 'nan' '2002.0' '2018.0' '2000.0' '2001.0' '2020.0']\n",
      "['SMP' 'SD' 'SMA/SMK' 'S1/S2/S3' 'Tidak sekolah' nan]\n",
      "['May' 'Jun' 'Sep' 'Jul' 'Aug' 'Oct' 'Apr' 'Mar' 'Nov' nan 'Feb' 'Dec'\n",
      " 'Jan']\n"
     ]
    }
   ],
   "source": [
    "for col in train_cat:\n",
    "    print(train_cat[col].unique())"
   ]
  },
  {
   "cell_type": "code",
   "execution_count": 10,
   "id": "familiar-ceremony",
   "metadata": {},
   "outputs": [
    {
     "data": {
      "image/png": "[encoded data removed]",
      "text/plain": [
       "<Figure size 720x504 with 6 Axes>"
      ]
     },
     "metadata": {},
     "output_type": "display_data"
    }
   ],
   "source": [
    "def srt_dist(df=train, cols=train[['x21','x80','x79','x108','x93','y']]):\n",
    "    fig, axes = plt.subplots(2, 3, squeeze=True)\n",
    "    axes = axes.flatten()\n",
    "    \n",
    "    for i, j in zip(cols, axes):\n",
    "        (df[i].value_counts()*100.0/len(df)).plot.pie(autopct='%.1f%%',figsize=(10,7), fontsize=15, ax=j)\n",
    "        j.yaxis.label.set_size(15)\n",
    "srt_dist()"
   ]
  },
  {
   "cell_type": "markdown",
   "id": "periodic-psychiatry",
   "metadata": {},
   "source": [
    "### Berdasarkan ratio persebaran data jenis categorical, dapat dilihat bahwa Variabel target: y memiliki proporsional data yang tidak seimbang. Hal ini menunjukkan kondisi Data Imbalance.  "
   ]
  },
  {
   "cell_type": "code",
   "execution_count": 11,
   "id": "dynamic-amino",
   "metadata": {
    "scrolled": true
   },
   "outputs": [
    {
     "data": {
      "image/png": "[encoded data removed]",
      "text/plain": [
       "<Figure size 432x288 with 16 Axes>"
      ]
     },
     "metadata": {
      "needs_background": "light"
     },
     "output_type": "display_data"
    },
    {
     "data": {
      "image/png": "[encoded data removed]",
      "text/plain": [
       "<Figure size 360x360 with 1 Axes>"
      ]
     },
     "metadata": {
      "needs_background": "light"
     },
     "output_type": "display_data"
    },
    {
     "data": {
      "image/png": "[encoded data removed]",
      "text/plain": [
       "<Figure size 360x360 with 1 Axes>"
      ]
     },
     "metadata": {
      "needs_background": "light"
     },
     "output_type": "display_data"
    },
    {
     "data": {
      "image/png": "[encoded data removed]",
      "text/plain": [
       "<Figure size 360x360 with 1 Axes>"
      ]
     },
     "metadata": {
      "needs_background": "light"
     },
     "output_type": "display_data"
    },
    {
     "data": {
      "image/png": "[encoded data removed]",
      "text/plain": [
       "<Figure size 360x360 with 1 Axes>"
      ]
     },
     "metadata": {
      "needs_background": "light"
     },
     "output_type": "display_data"
    },
    {
     "data": {
      "image/png": "[encoded data removed]",
      "text/plain": [
       "<Figure size 360x360 with 1 Axes>"
      ]
     },
     "metadata": {
      "needs_background": "light"
     },
     "output_type": "display_data"
    },
    {
     "data": {
      "image/png": "[encoded data removed]",
      "text/plain": [
       "<Figure size 360x360 with 1 Axes>"
      ]
     },
     "metadata": {
      "needs_background": "light"
     },
     "output_type": "display_data"
    },
    {
     "data": {
      "image/png": "[encoded data removed]",
      "text/plain": [
       "<Figure size 360x360 with 1 Axes>"
      ]
     },
     "metadata": {
      "needs_background": "light"
     },
     "output_type": "display_data"
    }
   ],
   "source": [
    "cat_feats=['x21','x79','x80','x89','x93','x108','x112']\n",
    "fig,axes = plt.subplots(16)\n",
    "axes = axes.flatten()\n",
    "\n",
    "for i, j in zip(cat_feats, axes):\n",
    "\n",
    "    sortd = train.groupby([i])['y'].median().sort_values(ascending=False)\n",
    "    j=sns.catplot(x=i,\n",
    "                y='y',\n",
    "                data=train,\n",
    "                kind='bar')\n",
    "    j.set_ylabels(\"Churn Probability\")\n"
   ]
  },
  {
   "cell_type": "code",
   "execution_count": 12,
   "id": "bronze-humanitarian",
   "metadata": {},
   "outputs": [
    {
     "name": "stdout",
     "output_type": "stream",
     "text": [
      "y       1.000000\n",
      "x17     0.136983\n",
      "x57     0.128242\n",
      "x41     0.120998\n",
      "x60     0.113804\n",
      "          ...   \n",
      "x33     0.000299\n",
      "x69     0.000197\n",
      "x14     0.000172\n",
      "x11     0.000157\n",
      "x100    0.000024\n",
      "Name: y, Length: 119, dtype: float64 \n",
      "\n"
     ]
    }
   ],
   "source": [
    "correlation = train.corr()\n",
    "print(correlation['y'].abs().sort_values(ascending = False),'\\n')"
   ]
  },
  {
   "cell_type": "code",
   "execution_count": 13,
   "id": "alone-recorder",
   "metadata": {
    "scrolled": true
   },
   "outputs": [
    {
     "data": {
      "text/html": [
       "<div>\n",
       "<style scoped>\n",
       "    .dataframe tbody tr th:only-of-type {\n",
       "        vertical-align: middle;\n",
       "    }\n",
       "\n",
       "    .dataframe tbody tr th {\n",
       "        vertical-align: top;\n",
       "    }\n",
       "\n",
       "    .dataframe thead th {\n",
       "        text-align: right;\n",
       "    }\n",
       "</style>\n",
       "<table border=\"1\" class=\"dataframe\">\n",
       "  <thead>\n",
       "    <tr style=\"text-align: right;\">\n",
       "      <th></th>\n",
       "      <th>y</th>\n",
       "    </tr>\n",
       "  </thead>\n",
       "  <tbody>\n",
       "    <tr>\n",
       "      <th>y</th>\n",
       "      <td>1.000000</td>\n",
       "    </tr>\n",
       "    <tr>\n",
       "      <th>x17</th>\n",
       "      <td>0.136983</td>\n",
       "    </tr>\n",
       "    <tr>\n",
       "      <th>x57</th>\n",
       "      <td>0.128242</td>\n",
       "    </tr>\n",
       "    <tr>\n",
       "      <th>x41</th>\n",
       "      <td>0.120998</td>\n",
       "    </tr>\n",
       "    <tr>\n",
       "      <th>x60</th>\n",
       "      <td>0.113804</td>\n",
       "    </tr>\n",
       "    <tr>\n",
       "      <th>x106</th>\n",
       "      <td>0.113577</td>\n",
       "    </tr>\n",
       "    <tr>\n",
       "      <th>x44</th>\n",
       "      <td>0.097781</td>\n",
       "    </tr>\n",
       "    <tr>\n",
       "      <th>x105</th>\n",
       "      <td>0.094995</td>\n",
       "    </tr>\n",
       "    <tr>\n",
       "      <th>x92</th>\n",
       "      <td>0.085921</td>\n",
       "    </tr>\n",
       "    <tr>\n",
       "      <th>x67</th>\n",
       "      <td>0.083999</td>\n",
       "    </tr>\n",
       "    <tr>\n",
       "      <th>x119</th>\n",
       "      <td>0.080113</td>\n",
       "    </tr>\n",
       "    <tr>\n",
       "      <th>x91</th>\n",
       "      <td>0.078085</td>\n",
       "    </tr>\n",
       "    <tr>\n",
       "      <th>x61</th>\n",
       "      <td>0.075836</td>\n",
       "    </tr>\n",
       "    <tr>\n",
       "      <th>x13</th>\n",
       "      <td>0.072913</td>\n",
       "    </tr>\n",
       "    <tr>\n",
       "      <th>x62</th>\n",
       "      <td>0.069361</td>\n",
       "    </tr>\n",
       "    <tr>\n",
       "      <th>x28</th>\n",
       "      <td>0.068710</td>\n",
       "    </tr>\n",
       "    <tr>\n",
       "      <th>x46</th>\n",
       "      <td>0.067976</td>\n",
       "    </tr>\n",
       "    <tr>\n",
       "      <th>x118</th>\n",
       "      <td>0.067032</td>\n",
       "    </tr>\n",
       "    <tr>\n",
       "      <th>x96</th>\n",
       "      <td>0.065964</td>\n",
       "    </tr>\n",
       "    <tr>\n",
       "      <th>x59</th>\n",
       "      <td>0.064507</td>\n",
       "    </tr>\n",
       "    <tr>\n",
       "      <th>x104</th>\n",
       "      <td>0.061336</td>\n",
       "    </tr>\n",
       "    <tr>\n",
       "      <th>x72</th>\n",
       "      <td>0.057125</td>\n",
       "    </tr>\n",
       "    <tr>\n",
       "      <th>x117</th>\n",
       "      <td>0.052421</td>\n",
       "    </tr>\n",
       "    <tr>\n",
       "      <th>x65</th>\n",
       "      <td>0.051633</td>\n",
       "    </tr>\n",
       "    <tr>\n",
       "      <th>x75</th>\n",
       "      <td>0.043178</td>\n",
       "    </tr>\n",
       "    <tr>\n",
       "      <th>x45</th>\n",
       "      <td>0.043160</td>\n",
       "    </tr>\n",
       "    <tr>\n",
       "      <th>x122</th>\n",
       "      <td>0.041442</td>\n",
       "    </tr>\n",
       "    <tr>\n",
       "      <th>x35</th>\n",
       "      <td>0.041194</td>\n",
       "    </tr>\n",
       "    <tr>\n",
       "      <th>x103</th>\n",
       "      <td>0.039896</td>\n",
       "    </tr>\n",
       "    <tr>\n",
       "      <th>x39</th>\n",
       "      <td>0.033654</td>\n",
       "    </tr>\n",
       "    <tr>\n",
       "      <th>x15</th>\n",
       "      <td>0.030245</td>\n",
       "    </tr>\n",
       "    <tr>\n",
       "      <th>x107</th>\n",
       "      <td>0.026857</td>\n",
       "    </tr>\n",
       "    <tr>\n",
       "      <th>x19</th>\n",
       "      <td>0.020853</td>\n",
       "    </tr>\n",
       "    <tr>\n",
       "      <th>x82</th>\n",
       "      <td>0.017467</td>\n",
       "    </tr>\n",
       "    <tr>\n",
       "      <th>x50</th>\n",
       "      <td>0.012614</td>\n",
       "    </tr>\n",
       "    <tr>\n",
       "      <th>x71</th>\n",
       "      <td>0.011542</td>\n",
       "    </tr>\n",
       "    <tr>\n",
       "      <th>x73</th>\n",
       "      <td>0.010830</td>\n",
       "    </tr>\n",
       "    <tr>\n",
       "      <th>x29</th>\n",
       "      <td>0.010689</td>\n",
       "    </tr>\n",
       "    <tr>\n",
       "      <th>x31</th>\n",
       "      <td>0.010344</td>\n",
       "    </tr>\n",
       "    <tr>\n",
       "      <th>x12</th>\n",
       "      <td>0.009049</td>\n",
       "    </tr>\n",
       "    <tr>\n",
       "      <th>x64</th>\n",
       "      <td>0.007614</td>\n",
       "    </tr>\n",
       "    <tr>\n",
       "      <th>x4</th>\n",
       "      <td>0.007267</td>\n",
       "    </tr>\n",
       "    <tr>\n",
       "      <th>x32</th>\n",
       "      <td>0.006683</td>\n",
       "    </tr>\n",
       "    <tr>\n",
       "      <th>x9</th>\n",
       "      <td>0.006534</td>\n",
       "    </tr>\n",
       "    <tr>\n",
       "      <th>x84</th>\n",
       "      <td>0.005723</td>\n",
       "    </tr>\n",
       "    <tr>\n",
       "      <th>x7</th>\n",
       "      <td>0.005546</td>\n",
       "    </tr>\n",
       "    <tr>\n",
       "      <th>x56</th>\n",
       "      <td>0.005306</td>\n",
       "    </tr>\n",
       "    <tr>\n",
       "      <th>x58</th>\n",
       "      <td>0.004981</td>\n",
       "    </tr>\n",
       "    <tr>\n",
       "      <th>x49</th>\n",
       "      <td>0.004854</td>\n",
       "    </tr>\n",
       "    <tr>\n",
       "      <th>x98</th>\n",
       "      <td>0.004568</td>\n",
       "    </tr>\n",
       "    <tr>\n",
       "      <th>x48</th>\n",
       "      <td>0.004456</td>\n",
       "    </tr>\n",
       "    <tr>\n",
       "      <th>x109</th>\n",
       "      <td>0.004313</td>\n",
       "    </tr>\n",
       "    <tr>\n",
       "      <th>x24</th>\n",
       "      <td>0.004275</td>\n",
       "    </tr>\n",
       "    <tr>\n",
       "      <th>x16</th>\n",
       "      <td>0.003896</td>\n",
       "    </tr>\n",
       "    <tr>\n",
       "      <th>x40</th>\n",
       "      <td>0.003880</td>\n",
       "    </tr>\n",
       "    <tr>\n",
       "      <th>x6</th>\n",
       "      <td>0.003780</td>\n",
       "    </tr>\n",
       "    <tr>\n",
       "      <th>x54</th>\n",
       "      <td>0.003704</td>\n",
       "    </tr>\n",
       "    <tr>\n",
       "      <th>x26</th>\n",
       "      <td>0.003695</td>\n",
       "    </tr>\n",
       "    <tr>\n",
       "      <th>x53</th>\n",
       "      <td>0.003576</td>\n",
       "    </tr>\n",
       "    <tr>\n",
       "      <th>x38</th>\n",
       "      <td>0.003420</td>\n",
       "    </tr>\n",
       "  </tbody>\n",
       "</table>\n",
       "</div>"
      ],
      "text/plain": [
       "             y\n",
       "y     1.000000\n",
       "x17   0.136983\n",
       "x57   0.128242\n",
       "x41   0.120998\n",
       "x60   0.113804\n",
       "x106  0.113577\n",
       "x44   0.097781\n",
       "x105  0.094995\n",
       "x92   0.085921\n",
       "x67   0.083999\n",
       "x119  0.080113\n",
       "x91   0.078085\n",
       "x61   0.075836\n",
       "x13   0.072913\n",
       "x62   0.069361\n",
       "x28   0.068710\n",
       "x46   0.067976\n",
       "x118  0.067032\n",
       "x96   0.065964\n",
       "x59   0.064507\n",
       "x104  0.061336\n",
       "x72   0.057125\n",
       "x117  0.052421\n",
       "x65   0.051633\n",
       "x75   0.043178\n",
       "x45   0.043160\n",
       "x122  0.041442\n",
       "x35   0.041194\n",
       "x103  0.039896\n",
       "x39   0.033654\n",
       "x15   0.030245\n",
       "x107  0.026857\n",
       "x19   0.020853\n",
       "x82   0.017467\n",
       "x50   0.012614\n",
       "x71   0.011542\n",
       "x73   0.010830\n",
       "x29   0.010689\n",
       "x31   0.010344\n",
       "x12   0.009049\n",
       "x64   0.007614\n",
       "x4    0.007267\n",
       "x32   0.006683\n",
       "x9    0.006534\n",
       "x84   0.005723\n",
       "x7    0.005546\n",
       "x56   0.005306\n",
       "x58   0.004981\n",
       "x49   0.004854\n",
       "x98   0.004568\n",
       "x48   0.004456\n",
       "x109  0.004313\n",
       "x24   0.004275\n",
       "x16   0.003896\n",
       "x40   0.003880\n",
       "x6    0.003780\n",
       "x54   0.003704\n",
       "x26   0.003695\n",
       "x53   0.003576\n",
       "x38   0.003420"
      ]
     },
     "execution_count": 13,
     "metadata": {},
     "output_type": "execute_result"
    }
   ],
   "source": [
    "cor_a = pd.DataFrame(correlation['y'].abs().sort_values(ascending = False))\n",
    "cor_a.head(60)"
   ]
  },
  {
   "cell_type": "code",
   "execution_count": 14,
   "id": "amino-holiday",
   "metadata": {
    "scrolled": true
   },
   "outputs": [
    {
     "data": {
      "text/html": [
       "<div>\n",
       "<style scoped>\n",
       "    .dataframe tbody tr th:only-of-type {\n",
       "        vertical-align: middle;\n",
       "    }\n",
       "\n",
       "    .dataframe tbody tr th {\n",
       "        vertical-align: top;\n",
       "    }\n",
       "\n",
       "    .dataframe thead th {\n",
       "        text-align: right;\n",
       "    }\n",
       "</style>\n",
       "<table border=\"1\" class=\"dataframe\">\n",
       "  <thead>\n",
       "    <tr style=\"text-align: right;\">\n",
       "      <th></th>\n",
       "      <th>y</th>\n",
       "    </tr>\n",
       "  </thead>\n",
       "  <tbody>\n",
       "    <tr>\n",
       "      <th>x110</th>\n",
       "      <td>0.001184</td>\n",
       "    </tr>\n",
       "    <tr>\n",
       "      <th>x87</th>\n",
       "      <td>0.001142</td>\n",
       "    </tr>\n",
       "    <tr>\n",
       "      <th>x95</th>\n",
       "      <td>0.001024</td>\n",
       "    </tr>\n",
       "    <tr>\n",
       "      <th>x90</th>\n",
       "      <td>0.000989</td>\n",
       "    </tr>\n",
       "    <tr>\n",
       "      <th>x36</th>\n",
       "      <td>0.000961</td>\n",
       "    </tr>\n",
       "    <tr>\n",
       "      <th>x85</th>\n",
       "      <td>0.000863</td>\n",
       "    </tr>\n",
       "    <tr>\n",
       "      <th>x99</th>\n",
       "      <td>0.000828</td>\n",
       "    </tr>\n",
       "    <tr>\n",
       "      <th>x34</th>\n",
       "      <td>0.000735</td>\n",
       "    </tr>\n",
       "    <tr>\n",
       "      <th>x5</th>\n",
       "      <td>0.000705</td>\n",
       "    </tr>\n",
       "    <tr>\n",
       "      <th>x43</th>\n",
       "      <td>0.000690</td>\n",
       "    </tr>\n",
       "    <tr>\n",
       "      <th>x123</th>\n",
       "      <td>0.000666</td>\n",
       "    </tr>\n",
       "    <tr>\n",
       "      <th>x2</th>\n",
       "      <td>0.000664</td>\n",
       "    </tr>\n",
       "    <tr>\n",
       "      <th>x37</th>\n",
       "      <td>0.000608</td>\n",
       "    </tr>\n",
       "    <tr>\n",
       "      <th>x52</th>\n",
       "      <td>0.000537</td>\n",
       "    </tr>\n",
       "    <tr>\n",
       "      <th>x10</th>\n",
       "      <td>0.000464</td>\n",
       "    </tr>\n",
       "    <tr>\n",
       "      <th>x33</th>\n",
       "      <td>0.000299</td>\n",
       "    </tr>\n",
       "    <tr>\n",
       "      <th>x69</th>\n",
       "      <td>0.000197</td>\n",
       "    </tr>\n",
       "    <tr>\n",
       "      <th>x14</th>\n",
       "      <td>0.000172</td>\n",
       "    </tr>\n",
       "    <tr>\n",
       "      <th>x11</th>\n",
       "      <td>0.000157</td>\n",
       "    </tr>\n",
       "    <tr>\n",
       "      <th>x100</th>\n",
       "      <td>0.000024</td>\n",
       "    </tr>\n",
       "  </tbody>\n",
       "</table>\n",
       "</div>"
      ],
      "text/plain": [
       "             y\n",
       "x110  0.001184\n",
       "x87   0.001142\n",
       "x95   0.001024\n",
       "x90   0.000989\n",
       "x36   0.000961\n",
       "x85   0.000863\n",
       "x99   0.000828\n",
       "x34   0.000735\n",
       "x5    0.000705\n",
       "x43   0.000690\n",
       "x123  0.000666\n",
       "x2    0.000664\n",
       "x37   0.000608\n",
       "x52   0.000537\n",
       "x10   0.000464\n",
       "x33   0.000299\n",
       "x69   0.000197\n",
       "x14   0.000172\n",
       "x11   0.000157\n",
       "x100  0.000024"
      ]
     },
     "execution_count": 14,
     "metadata": {},
     "output_type": "execute_result"
    }
   ],
   "source": [
    "cor_a.tail(20)"
   ]
  },
  {
   "cell_type": "markdown",
   "id": "metropolitan-kruger",
   "metadata": {},
   "source": [
    "### Berdasarkan persebaran nilai korelasi antara seluruh variabel terhadap Variabel target: y, menunjukkan nilai korelasi yang rendah."
   ]
  },
  {
   "cell_type": "code",
   "execution_count": 15,
   "id": "prompt-rachel",
   "metadata": {},
   "outputs": [
    {
     "data": {
      "text/plain": [
       "x0      123\n",
       "x1      131\n",
       "x2      124\n",
       "x3      115\n",
       "x4      137\n",
       "       ... \n",
       "x121    129\n",
       "x122    127\n",
       "x123    130\n",
       "x124    123\n",
       "y         0\n",
       "Length: 126, dtype: int64"
      ]
     },
     "execution_count": 15,
     "metadata": {},
     "output_type": "execute_result"
    }
   ],
   "source": [
    "train.isna().sum()"
   ]
  },
  {
   "cell_type": "code",
   "execution_count": 16,
   "id": "hybrid-heath",
   "metadata": {},
   "outputs": [],
   "source": [
    "train2 = train.dropna()"
   ]
  },
  {
   "cell_type": "code",
   "execution_count": 17,
   "id": "severe-retail",
   "metadata": {},
   "outputs": [
    {
     "name": "stdout",
     "output_type": "stream",
     "text": [
      "(100000, 126)\n",
      "(84238, 126)\n"
     ]
    }
   ],
   "source": [
    "print(train.shape)\n",
    "print(train2.shape)"
   ]
  },
  {
   "cell_type": "markdown",
   "id": "secure-compiler",
   "metadata": {},
   "source": [
    "### Terdapat sejumlah data dengan kondisi empty (N/A), dalam hal ini penulis melakukan penghapusan terhadap seluruh kondisi data yang tidak lengkap."
   ]
  },
  {
   "cell_type": "code",
   "execution_count": 18,
   "id": "unavailable-expansion",
   "metadata": {},
   "outputs": [],
   "source": [
    "train3 = train2.drop(['x89'], axis=1)"
   ]
  },
  {
   "cell_type": "markdown",
   "id": "unknown-cabinet",
   "metadata": {},
   "source": [
    "### X89 merupakan data categorical spasial provinsi nasabah. Dalam hal ini penulis menghapus jenis data dimaksud karena dinilai tidak memiliki korelasi yang cukup signifikan terhadap output dan menyumbang proporsi kategori data yang cukup besar."
   ]
  },
  {
   "cell_type": "markdown",
   "id": "provincial-county",
   "metadata": {},
   "source": [
    "## Feature Engineering"
   ]
  },
  {
   "cell_type": "markdown",
   "id": "forced-exclusion",
   "metadata": {},
   "source": [
    "### Dalam tahap Feature Engineering, penulis menggunakan metode Dummy Variabel untuk mengubah jenis data cetegorical menjadi numerical."
   ]
  },
  {
   "cell_type": "code",
   "execution_count": 19,
   "id": "chronic-target",
   "metadata": {},
   "outputs": [
    {
     "data": {
      "text/html": [
       "<div>\n",
       "<style scoped>\n",
       "    .dataframe tbody tr th:only-of-type {\n",
       "        vertical-align: middle;\n",
       "    }\n",
       "\n",
       "    .dataframe tbody tr th {\n",
       "        vertical-align: top;\n",
       "    }\n",
       "\n",
       "    .dataframe thead th {\n",
       "        text-align: right;\n",
       "    }\n",
       "</style>\n",
       "<table border=\"1\" class=\"dataframe\">\n",
       "  <thead>\n",
       "    <tr style=\"text-align: right;\">\n",
       "      <th></th>\n",
       "      <th>x0</th>\n",
       "      <th>x1</th>\n",
       "      <th>x2</th>\n",
       "      <th>x3</th>\n",
       "      <th>x4</th>\n",
       "      <th>x5</th>\n",
       "      <th>x6</th>\n",
       "      <th>x7</th>\n",
       "      <th>x8</th>\n",
       "      <th>x9</th>\n",
       "      <th>...</th>\n",
       "      <th>x112_Dec</th>\n",
       "      <th>x112_Feb</th>\n",
       "      <th>x112_Jan</th>\n",
       "      <th>x112_Jul</th>\n",
       "      <th>x112_Jun</th>\n",
       "      <th>x112_Mar</th>\n",
       "      <th>x112_May</th>\n",
       "      <th>x112_Nov</th>\n",
       "      <th>x112_Oct</th>\n",
       "      <th>x112_Sep</th>\n",
       "    </tr>\n",
       "  </thead>\n",
       "  <tbody>\n",
       "    <tr>\n",
       "      <th>0</th>\n",
       "      <td>0.067563</td>\n",
       "      <td>-2.172492</td>\n",
       "      <td>-1.713774</td>\n",
       "      <td>-0.146854</td>\n",
       "      <td>-0.685219</td>\n",
       "      <td>-0.933838</td>\n",
       "      <td>4.0</td>\n",
       "      <td>2.0</td>\n",
       "      <td>-4.476051</td>\n",
       "      <td>-1.472306</td>\n",
       "      <td>...</td>\n",
       "      <td>0</td>\n",
       "      <td>0</td>\n",
       "      <td>0</td>\n",
       "      <td>0</td>\n",
       "      <td>0</td>\n",
       "      <td>0</td>\n",
       "      <td>1</td>\n",
       "      <td>0</td>\n",
       "      <td>0</td>\n",
       "      <td>0</td>\n",
       "    </tr>\n",
       "    <tr>\n",
       "      <th>2</th>\n",
       "      <td>0.648421</td>\n",
       "      <td>3.881137</td>\n",
       "      <td>0.961359</td>\n",
       "      <td>0.217361</td>\n",
       "      <td>-1.471850</td>\n",
       "      <td>-0.975352</td>\n",
       "      <td>5.0</td>\n",
       "      <td>1.0</td>\n",
       "      <td>-0.850146</td>\n",
       "      <td>-4.011487</td>\n",
       "      <td>...</td>\n",
       "      <td>0</td>\n",
       "      <td>0</td>\n",
       "      <td>0</td>\n",
       "      <td>0</td>\n",
       "      <td>1</td>\n",
       "      <td>0</td>\n",
       "      <td>0</td>\n",
       "      <td>0</td>\n",
       "      <td>0</td>\n",
       "      <td>0</td>\n",
       "    </tr>\n",
       "    <tr>\n",
       "      <th>3</th>\n",
       "      <td>0.005775</td>\n",
       "      <td>-2.726153</td>\n",
       "      <td>2.891378</td>\n",
       "      <td>-0.038325</td>\n",
       "      <td>2.280847</td>\n",
       "      <td>1.761478</td>\n",
       "      <td>3.0</td>\n",
       "      <td>3.0</td>\n",
       "      <td>9.116188</td>\n",
       "      <td>-4.610151</td>\n",
       "      <td>...</td>\n",
       "      <td>0</td>\n",
       "      <td>0</td>\n",
       "      <td>0</td>\n",
       "      <td>0</td>\n",
       "      <td>0</td>\n",
       "      <td>0</td>\n",
       "      <td>0</td>\n",
       "      <td>0</td>\n",
       "      <td>0</td>\n",
       "      <td>1</td>\n",
       "    </tr>\n",
       "    <tr>\n",
       "      <th>4</th>\n",
       "      <td>0.044396</td>\n",
       "      <td>2.803576</td>\n",
       "      <td>-1.923381</td>\n",
       "      <td>-0.116657</td>\n",
       "      <td>-1.574199</td>\n",
       "      <td>6.098627</td>\n",
       "      <td>3.0</td>\n",
       "      <td>1.0</td>\n",
       "      <td>-13.956141</td>\n",
       "      <td>13.785099</td>\n",
       "      <td>...</td>\n",
       "      <td>0</td>\n",
       "      <td>0</td>\n",
       "      <td>0</td>\n",
       "      <td>0</td>\n",
       "      <td>1</td>\n",
       "      <td>0</td>\n",
       "      <td>0</td>\n",
       "      <td>0</td>\n",
       "      <td>0</td>\n",
       "      <td>0</td>\n",
       "    </tr>\n",
       "    <tr>\n",
       "      <th>5</th>\n",
       "      <td>-0.462368</td>\n",
       "      <td>2.526347</td>\n",
       "      <td>0.920240</td>\n",
       "      <td>-0.020618</td>\n",
       "      <td>-5.179910</td>\n",
       "      <td>-3.853827</td>\n",
       "      <td>4.0</td>\n",
       "      <td>3.0</td>\n",
       "      <td>8.257549</td>\n",
       "      <td>-6.077966</td>\n",
       "      <td>...</td>\n",
       "      <td>0</td>\n",
       "      <td>0</td>\n",
       "      <td>0</td>\n",
       "      <td>1</td>\n",
       "      <td>0</td>\n",
       "      <td>0</td>\n",
       "      <td>0</td>\n",
       "      <td>0</td>\n",
       "      <td>0</td>\n",
       "      <td>0</td>\n",
       "    </tr>\n",
       "  </tbody>\n",
       "</table>\n",
       "<p>5 rows × 180 columns</p>\n",
       "</div>"
      ],
      "text/plain": [
       "         x0        x1        x2        x3        x4        x5   x6   x7  \\\n",
       "0  0.067563 -2.172492 -1.713774 -0.146854 -0.685219 -0.933838  4.0  2.0   \n",
       "2  0.648421  3.881137  0.961359  0.217361 -1.471850 -0.975352  5.0  1.0   \n",
       "3  0.005775 -2.726153  2.891378 -0.038325  2.280847  1.761478  3.0  3.0   \n",
       "4  0.044396  2.803576 -1.923381 -0.116657 -1.574199  6.098627  3.0  1.0   \n",
       "5 -0.462368  2.526347  0.920240 -0.020618 -5.179910 -3.853827  4.0  3.0   \n",
       "\n",
       "          x8         x9  ...  x112_Dec  x112_Feb  x112_Jan  x112_Jul  \\\n",
       "0  -4.476051  -1.472306  ...         0         0         0         0   \n",
       "2  -0.850146  -4.011487  ...         0         0         0         0   \n",
       "3   9.116188  -4.610151  ...         0         0         0         0   \n",
       "4 -13.956141  13.785099  ...         0         0         0         0   \n",
       "5   8.257549  -6.077966  ...         0         0         0         1   \n",
       "\n",
       "   x112_Jun  x112_Mar  x112_May  x112_Nov  x112_Oct  x112_Sep  \n",
       "0         0         0         1         0         0         0  \n",
       "2         1         0         0         0         0         0  \n",
       "3         0         0         0         0         0         1  \n",
       "4         1         0         0         0         0         0  \n",
       "5         0         0         0         0         0         0  \n",
       "\n",
       "[5 rows x 180 columns]"
      ]
     },
     "execution_count": 19,
     "metadata": {},
     "output_type": "execute_result"
    }
   ],
   "source": [
    "train_dum = pd.get_dummies(train3)\n",
    "train_dum.head()"
   ]
  },
  {
   "cell_type": "code",
   "execution_count": 20,
   "id": "judicial-trick",
   "metadata": {},
   "outputs": [
    {
     "name": "stdout",
     "output_type": "stream",
     "text": [
      "(100000, 126)\n",
      "(84238, 125)\n",
      "(84238, 180)\n"
     ]
    }
   ],
   "source": [
    "print(train.shape)\n",
    "print(train3.shape)\n",
    "print(train_dum.shape)"
   ]
  },
  {
   "cell_type": "code",
   "execution_count": 21,
   "id": "trained-greeting",
   "metadata": {},
   "outputs": [],
   "source": [
    "y = train_dum['y']\n",
    "X = train_dum.drop(['y'], axis=1)"
   ]
  },
  {
   "cell_type": "code",
   "execution_count": 22,
   "id": "bacterial-stake",
   "metadata": {
    "scrolled": true
   },
   "outputs": [
    {
     "data": {
      "text/plain": [
       "(84238, 84238)"
      ]
     },
     "execution_count": 22,
     "metadata": {},
     "output_type": "execute_result"
    }
   ],
   "source": [
    "len(X), len(y)"
   ]
  },
  {
   "cell_type": "markdown",
   "id": "potential-frame",
   "metadata": {},
   "source": [
    "### Imbalance Data: Dalam hal kondisi rasio total data Variabel target (y) yang tidak seimbang dari jumlah data keseluruhan, penulis menggunakan metode RandomOverSampler."
   ]
  },
  {
   "cell_type": "code",
   "execution_count": 23,
   "id": "selected-oxide",
   "metadata": {},
   "outputs": [],
   "source": [
    "### Random Sampling - IMBALANCED DATA\n",
    "\n",
    "from imblearn.over_sampling import RandomOverSampler\n",
    "from collections import Counter\n",
    "from sklearn.datasets import make_classification"
   ]
  },
  {
   "cell_type": "code",
   "execution_count": 24,
   "id": "southern-valentine",
   "metadata": {},
   "outputs": [
    {
     "name": "stdout",
     "output_type": "stream",
     "text": [
      "Counter({0: 69918, 1: 14320})\n"
     ]
    }
   ],
   "source": [
    "print(Counter(y))"
   ]
  },
  {
   "cell_type": "code",
   "execution_count": 25,
   "id": "medieval-plumbing",
   "metadata": {},
   "outputs": [],
   "source": [
    "# define oversampling strategy\n",
    "oversample = RandomOverSampler(sampling_strategy='minority')"
   ]
  },
  {
   "cell_type": "code",
   "execution_count": 26,
   "id": "restricted-yorkshire",
   "metadata": {},
   "outputs": [],
   "source": [
    "# fit and apply the transform\n",
    "X_over, y_over = oversample.fit_resample(X, y)"
   ]
  },
  {
   "cell_type": "code",
   "execution_count": 27,
   "id": "formed-mediterranean",
   "metadata": {},
   "outputs": [
    {
     "name": "stdout",
     "output_type": "stream",
     "text": [
      "Counter({0: 69918, 1: 69918})\n"
     ]
    }
   ],
   "source": [
    "# summarize class distribution\n",
    "print(Counter(y_over))"
   ]
  },
  {
   "cell_type": "code",
   "execution_count": 28,
   "id": "combined-watson",
   "metadata": {},
   "outputs": [
    {
     "data": {
      "text/plain": [
       "(139836, 139836)"
      ]
     },
     "execution_count": 28,
     "metadata": {},
     "output_type": "execute_result"
    }
   ],
   "source": [
    "### RESULT\n",
    "#X_over, y_over ---> Output from oversampling minority\n",
    "\n",
    "len(X_over), len(y_over)"
   ]
  },
  {
   "cell_type": "markdown",
   "id": "lasting-eugene",
   "metadata": {},
   "source": [
    "## Modelling"
   ]
  },
  {
   "cell_type": "markdown",
   "id": "parental-shield",
   "metadata": {},
   "source": [
    "### Pembagian dataset menjadi training/test dengan ratio: 75:25\n",
    "### Metode pembagian data menggunakan konsep Cross-validation: Stratified Shuffle Split"
   ]
  },
  {
   "cell_type": "code",
   "execution_count": 29,
   "id": "hawaiian-topic",
   "metadata": {},
   "outputs": [],
   "source": [
    "from sklearn.model_selection import train_test_split\n",
    "## TRAIN/TEST SPLIT - CROSS VALIDAION = Stratify"
   ]
  },
  {
   "cell_type": "code",
   "execution_count": 30,
   "id": "usual-gilbert",
   "metadata": {},
   "outputs": [
    {
     "data": {
      "text/plain": [
       "((104877, 179), (34959, 179), (104877,), (34959,))"
      ]
     },
     "execution_count": 30,
     "metadata": {},
     "output_type": "execute_result"
    }
   ],
   "source": [
    "X_train, X_test, y_train, y_test = train_test_split(X_over, y_over, test_size=0.25, stratify=y_over, random_state=2)\n",
    "X_train.shape, X_test.shape, y_train.shape, y_test.shape"
   ]
  },
  {
   "cell_type": "markdown",
   "id": "gross-blond",
   "metadata": {},
   "source": [
    "### Mengaktifkan beberapa library: JcopML, Pipeline\n",
    "#### Dalam proses modelling ini penulis menggunakan library tersebut untuk memudahkan proses pengolahan data yang digunakan dalam proses trial/error."
   ]
  },
  {
   "cell_type": "code",
   "execution_count": 31,
   "id": "biological-monthly",
   "metadata": {},
   "outputs": [],
   "source": [
    "### Activation Library: JcopML, Pipeline\n",
    "\n",
    "from sklearn.pipeline import Pipeline\n",
    "from sklearn.compose import ColumnTransformer\n",
    "\n",
    "from jcopml.pipeline import num_pipe, cat_pipe\n",
    "from jcopml.utils import save_model, load_model\n",
    "from jcopml.plot import plot_missing_value\n",
    "from jcopml.feature_importance import mean_score_decrease"
   ]
  },
  {
   "cell_type": "code",
   "execution_count": 32,
   "id": "cheap-condition",
   "metadata": {},
   "outputs": [
    {
     "name": "stdout",
     "output_type": "stream",
     "text": [
      "['x0', 'x1', 'x2', 'x3', 'x4', 'x5', 'x6', 'x7', 'x8', 'x9', 'x10', 'x11', 'x12', 'x13', 'x14', 'x15', 'x16', 'x17', 'x18', 'x19', 'x20', 'x22', 'x23', 'x24', 'x25', 'x26', 'x27', 'x28', 'x29', 'x30', 'x31', 'x32', 'x33', 'x34', 'x35', 'x36', 'x37', 'x38', 'x39', 'x40', 'x41', 'x42', 'x43', 'x44', 'x45', 'x46', 'x47', 'x48', 'x49', 'x50', 'x51', 'x52', 'x53', 'x54', 'x55', 'x56', 'x57', 'x58', 'x59', 'x60', 'x61', 'x62', 'x63', 'x64', 'x65', 'x66', 'x67', 'x68', 'x69', 'x70', 'x71', 'x72', 'x73', 'x74', 'x75', 'x76', 'x77', 'x78', 'x81', 'x82', 'x83', 'x84', 'x85', 'x86', 'x87', 'x88', 'x90', 'x91', 'x92', 'x94', 'x95', 'x96', 'x97', 'x98', 'x99', 'x100', 'x101', 'x102', 'x103', 'x104', 'x105', 'x106', 'x107', 'x109', 'x110', 'x111', 'x113', 'x114', 'x115', 'x116', 'x117', 'x118', 'x119', 'x120', 'x121', 'x122', 'x123', 'x124', 'x21_Apr', 'x21_Aug', 'x21_Dec', 'x21_Feb', 'x21_Jan', 'x21_Jul', 'x21_Jun', 'x21_Mar', 'x21_May', 'x21_Nov', 'x21_Oct', 'x21_Sep', 'x79_Laki-laki', 'x79_Perempuan', 'x80_2015.0', 'x80_2016.0', 'x80_2017.0', 'x80_2018.0', 'x80_2019.0', 'x80_2020.0', 'x80_2021.0', 'x80_nan', 'x93_2000.0', 'x93_2001.0', 'x93_2002.0', 'x93_2003.0', 'x93_2004.0', 'x93_2005.0', 'x93_2006.0', 'x93_2007.0', 'x93_2008.0', 'x93_2009.0', 'x93_2010.0', 'x93_2011.0', 'x93_2012.0', 'x93_2013.0', 'x93_2014.0', 'x93_2015.0', 'x93_2016.0', 'x93_2017.0', 'x93_2018.0', 'x93_2019.0', 'x93_2020.0', 'x93_nan', 'x108_S1/S2/S3', 'x108_SD', 'x108_SMA/SMK', 'x108_SMP', 'x108_Tidak sekolah', 'x112_Apr', 'x112_Aug', 'x112_Dec', 'x112_Feb', 'x112_Jan', 'x112_Jul', 'x112_Jun', 'x112_Mar', 'x112_May', 'x112_Nov', 'x112_Oct', 'x112_Sep']\n"
     ]
    }
   ],
   "source": [
    "print(X_train.columns.tolist())"
   ]
  },
  {
   "cell_type": "code",
   "execution_count": 33,
   "id": "advanced-exclusive",
   "metadata": {},
   "outputs": [],
   "source": [
    "preprocessor = ColumnTransformer([\n",
    "('numeric', num_pipe(), X_train.columns.tolist())\n",
    "])"
   ]
  },
  {
   "cell_type": "markdown",
   "id": "associate-imagination",
   "metadata": {},
   "source": [
    "### Setelah melakukan beberapa percobaan, penulis menentukan metode Supervised-learning classification yang paling optimal untuk digunakan yaitu Random Forest Classifier."
   ]
  },
  {
   "cell_type": "code",
   "execution_count": 34,
   "id": "closed-lewis",
   "metadata": {},
   "outputs": [],
   "source": [
    "from sklearn.ensemble import RandomForestClassifier\n",
    "pipeline = Pipeline([\n",
    "    ('prep', preprocessor),\n",
    "    ('algo', RandomForestClassifier(n_jobs=-1, random_state=42))\n",
    "])"
   ]
  },
  {
   "cell_type": "code",
   "execution_count": 35,
   "id": "urban-cornell",
   "metadata": {},
   "outputs": [],
   "source": [
    "from sklearn.model_selection import RandomizedSearchCV"
   ]
  },
  {
   "cell_type": "code",
   "execution_count": 37,
   "id": "smoking-trick",
   "metadata": {},
   "outputs": [],
   "source": [
    "from jcopml.tuning import random_search_params as rsp"
   ]
  },
  {
   "cell_type": "code",
   "execution_count": 38,
   "id": "sublime-stanley",
   "metadata": {},
   "outputs": [],
   "source": [
    "import time"
   ]
  },
  {
   "cell_type": "code",
   "execution_count": 39,
   "id": "enhanced-exception",
   "metadata": {},
   "outputs": [
    {
     "name": "stdout",
     "output_type": "stream",
     "text": [
      "Fitting 3 folds for each of 30 candidates, totalling 90 fits\n",
      "{'algo__max_depth': 48, 'algo__max_features': 0.8219772826786358, 'algo__min_samples_leaf': 1, 'algo__n_estimators': 188}\n",
      "1.0 0.9640435939243113 0.9856975313939186\n",
      "Wall time: 2h 27min 42s\n"
     ]
    }
   ],
   "source": [
    "%%time\n",
    "####  Implement -- RANDOM SEARCH CV\n",
    "\n",
    "model = RandomizedSearchCV(pipeline, rsp.rf_params, cv=3, n_iter=30, n_jobs=-1, verbose=1, random_state=42)\n",
    "model.fit(X_train, y_train)\n",
    "\n",
    "print(model.best_params_)\n",
    "print(model.score(X_train, y_train), model.best_score_, model.score(X_test, y_test))\n"
   ]
  },
  {
   "cell_type": "markdown",
   "id": "timely-powder",
   "metadata": {},
   "source": [
    "## Model Evaluation"
   ]
  },
  {
   "cell_type": "code",
   "execution_count": 39,
   "id": "local-channels",
   "metadata": {},
   "outputs": [],
   "source": [
    "from jcopml.plot import plot_classification_report, plot_confusion_matrix, plot_roc_curve, plot_pr_curve"
   ]
  },
  {
   "cell_type": "code",
   "execution_count": 41,
   "id": "static-traveler",
   "metadata": {},
   "outputs": [
    {
     "data": {
      "image/png": "[encoded data removed]",
      "text/plain": [
       "<Figure size 792x360 with 2 Axes>"
      ]
     },
     "metadata": {
      "needs_background": "light"
     },
     "output_type": "display_data"
    }
   ],
   "source": [
    "plot_classification_report(X_train, y_train, X_test, y_test, model)"
   ]
  },
  {
   "cell_type": "code",
   "execution_count": 42,
   "id": "governing-saturn",
   "metadata": {},
   "outputs": [
    {
     "name": "stdout",
     "output_type": "stream",
     "text": [
      "Train report\n",
      "              precision    recall  f1-score   support\n",
      "\n",
      "           0       1.00      1.00      1.00     52438\n",
      "           1       1.00      1.00      1.00     52439\n",
      "\n",
      "    accuracy                           1.00    104877\n",
      "   macro avg       1.00      1.00      1.00    104877\n",
      "weighted avg       1.00      1.00      1.00    104877\n",
      "\n",
      "\n",
      "Test report\n",
      "              precision    recall  f1-score   support\n",
      "\n",
      "           0       0.99      0.99      0.99     17480\n",
      "           1       0.99      0.99      0.99     17479\n",
      "\n",
      "    accuracy                           0.99     34959\n",
      "   macro avg       0.99      0.99      0.99     34959\n",
      "weighted avg       0.99      0.99      0.99     34959\n",
      "\n"
     ]
    }
   ],
   "source": [
    "plot_classification_report(X_train, y_train, X_test, y_test, model, report=True)"
   ]
  },
  {
   "cell_type": "code",
   "execution_count": 43,
   "id": "vocal-greene",
   "metadata": {},
   "outputs": [
    {
     "data": {
      "image/png": "[encoded data removed]",
      "text/plain": [
       "<Figure size 792x360 with 2 Axes>"
      ]
     },
     "metadata": {
      "needs_background": "light"
     },
     "output_type": "display_data"
    }
   ],
   "source": [
    "plot_confusion_matrix(X_train, y_train, X_test, y_test, model)"
   ]
  },
  {
   "cell_type": "code",
   "execution_count": 44,
   "id": "proprietary-plaza",
   "metadata": {},
   "outputs": [
    {
     "data": {
      "image/png": "[encoded data removed]",
      "text/plain": [
       "<Figure size 936x432 with 2 Axes>"
      ]
     },
     "metadata": {
      "needs_background": "light"
     },
     "output_type": "display_data"
    }
   ],
   "source": [
    "plot_roc_curve(X_train, y_train, X_test, y_test, model)"
   ]
  },
  {
   "cell_type": "markdown",
   "id": "spanish-france",
   "metadata": {},
   "source": [
    "## Parameter Tuning"
   ]
  },
  {
   "cell_type": "markdown",
   "id": "electric-independence",
   "metadata": {},
   "source": [
    "### Dalam tahap Tuning ini, penulis menggunakan metode GeneticSelectionCV dari Library Scikit.learn.\n",
    "### Metode ini digunakan untuk Feature Selection, mengeliminasi sejumlah feature yang digunakan dalam proses pemodelan dengan target: MENINGKATKAN KECEPATAN PEMODELAN."
   ]
  },
  {
   "cell_type": "code",
   "execution_count": 40,
   "id": "extreme-conference",
   "metadata": {},
   "outputs": [],
   "source": [
    "##### TUNING\n",
    "#!pip install sklearn-genetic\n",
    "from genetic_selection import GeneticSelectionCV"
   ]
  },
  {
   "cell_type": "code",
   "execution_count": 41,
   "id": "extensive-jerusalem",
   "metadata": {},
   "outputs": [],
   "source": [
    "from sklearn import ensemble\n",
    "from sklearn.ensemble import RandomForestClassifier"
   ]
  },
  {
   "cell_type": "code",
   "execution_count": 42,
   "id": "color-technician",
   "metadata": {},
   "outputs": [],
   "source": [
    "estimator = RandomForestClassifier()"
   ]
  },
  {
   "cell_type": "code",
   "execution_count": 45,
   "id": "honey-secretary",
   "metadata": {},
   "outputs": [],
   "source": [
    "model = GeneticSelectionCV(estimator, cv=5, verbose=0, scoring=\"accuracy\", max_features=50, n_population=100, crossover_proba=0.5, mutation_proba=0.2, n_generations=50, crossover_independent_proba=0.5, mutation_independent_proba=0.04, tournament_size=3, n_gen_no_change=10, caching=True, n_jobs=-1)"
   ]
  },
  {
   "cell_type": "code",
   "execution_count": 46,
   "id": "threatened-election",
   "metadata": {},
   "outputs": [
    {
     "data": {
      "text/plain": [
       "GeneticSelectionCV(caching=True, crossover_independent_proba=0.5, cv=5,\n",
       "                   estimator=RandomForestClassifier(), max_features=50,\n",
       "                   mutation_independent_proba=0.04, n_gen_no_change=10,\n",
       "                   n_generations=50, n_jobs=-1, n_population=100,\n",
       "                   scoring='accuracy')"
      ]
     },
     "execution_count": 46,
     "metadata": {},
     "output_type": "execute_result"
    }
   ],
   "source": [
    "model"
   ]
  },
  {
   "cell_type": "markdown",
   "id": "original-singer",
   "metadata": {},
   "source": [
    "### NOTE: Proses pengolahan data Feature Selection menggunakan Tuning = 15h 28min 14s"
   ]
  },
  {
   "cell_type": "code",
   "execution_count": 47,
   "id": "atmospheric-march",
   "metadata": {},
   "outputs": [
    {
     "name": "stdout",
     "output_type": "stream",
     "text": [
      "Features: Index(['x4', 'x10', 'x13', 'x15', 'x25', 'x28', 'x29', 'x32', 'x35', 'x36',\n",
      "       'x40', 'x46', 'x50', 'x53', 'x55', 'x59', 'x61', 'x62', 'x64', 'x66',\n",
      "       'x68', 'x73', 'x75', 'x78', 'x86', 'x91', 'x96', 'x99', 'x102', 'x103',\n",
      "       'x106', 'x109', 'x119', 'x122', 'x123', 'x21_Dec', 'x21_Jan', 'x21_Nov',\n",
      "       'x80_2018.0', 'x93_2002.0', 'x93_2008.0', 'x93_2016.0', 'x108_SD',\n",
      "       'x108_SMA/SMK', 'x108_Tidak sekolah', 'x112_Nov'],\n",
      "      dtype='object')\n"
     ]
    },
    {
     "ename": "AttributeError",
     "evalue": "'GeneticSelectionCV' object has no attribute 'best_params_'",
     "output_type": "error",
     "traceback": [
      "\u001b[1;31m---------------------------------------------------------------------------\u001b[0m",
      "\u001b[1;31mAttributeError\u001b[0m                            Traceback (most recent call last)",
      "\u001b[1;32m<timed exec>\u001b[0m in \u001b[0;36m<module>\u001b[1;34m\u001b[0m\n",
      "\u001b[1;31mAttributeError\u001b[0m: 'GeneticSelectionCV' object has no attribute 'best_params_'"
     ]
    }
   ],
   "source": [
    "%%time\n",
    "####  Implement -- GeneticSelectionCV\n",
    "\n",
    "#model = model.fit(X_train, y_train)\n",
    "#print('Features:', X_train.columns[model.support_])\n"
   ]
  },
  {
   "cell_type": "code",
   "execution_count": 48,
   "id": "renewable-marijuana",
   "metadata": {
    "scrolled": true
   },
   "outputs": [
    {
     "name": "stdout",
     "output_type": "stream",
     "text": [
      "Features: Index(['x4', 'x10', 'x13', 'x15', 'x25', 'x28', 'x29', 'x32', 'x35', 'x36',\n",
      "       'x40', 'x46', 'x50', 'x53', 'x55', 'x59', 'x61', 'x62', 'x64', 'x66',\n",
      "       'x68', 'x73', 'x75', 'x78', 'x86', 'x91', 'x96', 'x99', 'x102', 'x103',\n",
      "       'x106', 'x109', 'x119', 'x122', 'x123', 'x21_Dec', 'x21_Jan', 'x21_Nov',\n",
      "       'x80_2018.0', 'x93_2002.0', 'x93_2008.0', 'x93_2016.0', 'x108_SD',\n",
      "       'x108_SMA/SMK', 'x108_Tidak sekolah', 'x112_Nov'],\n",
      "      dtype='object')\n"
     ]
    }
   ],
   "source": [
    "print('Features:', X_train.columns[model.support_])"
   ]
  },
  {
   "cell_type": "markdown",
   "id": "consecutive-chemistry",
   "metadata": {},
   "source": [
    "### Setelah didapatkan sejumlah parameter yang dipilih menggunakan metode: GeneticSelectionCV. Proses pemodelan dilakukan kembali dari posisi setelah proses Imbalance data: X_over & y_over"
   ]
  },
  {
   "cell_type": "code",
   "execution_count": 49,
   "id": "rolled-revelation",
   "metadata": {},
   "outputs": [],
   "source": [
    "X_gen = X_over[['x4', 'x10', 'x13', 'x15', 'x25', 'x28', 'x29', 'x32', 'x35', 'x36',\n",
    "       'x40', 'x46', 'x50', 'x53', 'x55', 'x59', 'x61', 'x62', 'x64', 'x66',\n",
    "       'x68', 'x73', 'x75', 'x78', 'x86', 'x91', 'x96', 'x99', 'x102', 'x103',\n",
    "       'x106', 'x109', 'x119', 'x122', 'x123', 'x21_Dec', 'x21_Jan', 'x21_Nov',\n",
    "       'x80_2018.0', 'x93_2002.0', 'x93_2008.0', 'x93_2016.0', 'x108_SD',\n",
    "       'x108_SMA/SMK', 'x108_Tidak sekolah', 'x112_Nov']]"
   ]
  },
  {
   "cell_type": "code",
   "execution_count": 50,
   "id": "weekly-cleveland",
   "metadata": {},
   "outputs": [],
   "source": [
    "y_gen = y_over"
   ]
  },
  {
   "cell_type": "code",
   "execution_count": 51,
   "id": "consolidated-charity",
   "metadata": {
    "scrolled": true
   },
   "outputs": [
    {
     "data": {
      "text/html": [
       "<div>\n",
       "<style scoped>\n",
       "    .dataframe tbody tr th:only-of-type {\n",
       "        vertical-align: middle;\n",
       "    }\n",
       "\n",
       "    .dataframe tbody tr th {\n",
       "        vertical-align: top;\n",
       "    }\n",
       "\n",
       "    .dataframe thead th {\n",
       "        text-align: right;\n",
       "    }\n",
       "</style>\n",
       "<table border=\"1\" class=\"dataframe\">\n",
       "  <thead>\n",
       "    <tr style=\"text-align: right;\">\n",
       "      <th></th>\n",
       "      <th>x4</th>\n",
       "      <th>x10</th>\n",
       "      <th>x13</th>\n",
       "      <th>x15</th>\n",
       "      <th>x25</th>\n",
       "      <th>x28</th>\n",
       "      <th>x29</th>\n",
       "      <th>x32</th>\n",
       "      <th>x35</th>\n",
       "      <th>x36</th>\n",
       "      <th>...</th>\n",
       "      <th>x21_Jan</th>\n",
       "      <th>x21_Nov</th>\n",
       "      <th>x80_2018.0</th>\n",
       "      <th>x93_2002.0</th>\n",
       "      <th>x93_2008.0</th>\n",
       "      <th>x93_2016.0</th>\n",
       "      <th>x108_SD</th>\n",
       "      <th>x108_SMA/SMK</th>\n",
       "      <th>x108_Tidak sekolah</th>\n",
       "      <th>x112_Nov</th>\n",
       "    </tr>\n",
       "  </thead>\n",
       "  <tbody>\n",
       "    <tr>\n",
       "      <th>0</th>\n",
       "      <td>-0.685219</td>\n",
       "      <td>-1.218774</td>\n",
       "      <td>-8.340786</td>\n",
       "      <td>-19.878081</td>\n",
       "      <td>1.393315</td>\n",
       "      <td>10.645972</td>\n",
       "      <td>39.437740</td>\n",
       "      <td>-1.281665</td>\n",
       "      <td>11.068075</td>\n",
       "      <td>-4.491661</td>\n",
       "      <td>...</td>\n",
       "      <td>0</td>\n",
       "      <td>0</td>\n",
       "      <td>0</td>\n",
       "      <td>0</td>\n",
       "      <td>0</td>\n",
       "      <td>0</td>\n",
       "      <td>0</td>\n",
       "      <td>0</td>\n",
       "      <td>0</td>\n",
       "      <td>0</td>\n",
       "    </tr>\n",
       "    <tr>\n",
       "      <th>1</th>\n",
       "      <td>-1.471850</td>\n",
       "      <td>11.472485</td>\n",
       "      <td>-3.618850</td>\n",
       "      <td>3.771034</td>\n",
       "      <td>3.486176</td>\n",
       "      <td>19.152437</td>\n",
       "      <td>-15.932574</td>\n",
       "      <td>-3.589043</td>\n",
       "      <td>-10.201114</td>\n",
       "      <td>4.142225</td>\n",
       "      <td>...</td>\n",
       "      <td>0</td>\n",
       "      <td>0</td>\n",
       "      <td>0</td>\n",
       "      <td>0</td>\n",
       "      <td>0</td>\n",
       "      <td>0</td>\n",
       "      <td>1</td>\n",
       "      <td>0</td>\n",
       "      <td>0</td>\n",
       "      <td>0</td>\n",
       "    </tr>\n",
       "    <tr>\n",
       "      <th>2</th>\n",
       "      <td>2.280847</td>\n",
       "      <td>-7.524298</td>\n",
       "      <td>-2.399277</td>\n",
       "      <td>-0.142621</td>\n",
       "      <td>-5.280456</td>\n",
       "      <td>1.637226</td>\n",
       "      <td>79.157790</td>\n",
       "      <td>6.159096</td>\n",
       "      <td>3.699499</td>\n",
       "      <td>0.279251</td>\n",
       "      <td>...</td>\n",
       "      <td>0</td>\n",
       "      <td>0</td>\n",
       "      <td>1</td>\n",
       "      <td>0</td>\n",
       "      <td>0</td>\n",
       "      <td>0</td>\n",
       "      <td>0</td>\n",
       "      <td>0</td>\n",
       "      <td>0</td>\n",
       "      <td>0</td>\n",
       "    </tr>\n",
       "    <tr>\n",
       "      <th>3</th>\n",
       "      <td>-1.574199</td>\n",
       "      <td>4.294059</td>\n",
       "      <td>-1.973822</td>\n",
       "      <td>-1.235130</td>\n",
       "      <td>3.182062</td>\n",
       "      <td>11.344922</td>\n",
       "      <td>-8.075377</td>\n",
       "      <td>3.802819</td>\n",
       "      <td>8.813286</td>\n",
       "      <td>-1.388252</td>\n",
       "      <td>...</td>\n",
       "      <td>0</td>\n",
       "      <td>0</td>\n",
       "      <td>0</td>\n",
       "      <td>0</td>\n",
       "      <td>0</td>\n",
       "      <td>0</td>\n",
       "      <td>0</td>\n",
       "      <td>1</td>\n",
       "      <td>0</td>\n",
       "      <td>0</td>\n",
       "    </tr>\n",
       "    <tr>\n",
       "      <th>4</th>\n",
       "      <td>-5.179910</td>\n",
       "      <td>3.363839</td>\n",
       "      <td>-11.043239</td>\n",
       "      <td>1.555816</td>\n",
       "      <td>-1.818470</td>\n",
       "      <td>-3.623773</td>\n",
       "      <td>23.272083</td>\n",
       "      <td>2.528781</td>\n",
       "      <td>-11.867754</td>\n",
       "      <td>-0.554952</td>\n",
       "      <td>...</td>\n",
       "      <td>0</td>\n",
       "      <td>0</td>\n",
       "      <td>1</td>\n",
       "      <td>0</td>\n",
       "      <td>0</td>\n",
       "      <td>0</td>\n",
       "      <td>0</td>\n",
       "      <td>0</td>\n",
       "      <td>0</td>\n",
       "      <td>0</td>\n",
       "    </tr>\n",
       "  </tbody>\n",
       "</table>\n",
       "<p>5 rows × 46 columns</p>\n",
       "</div>"
      ],
      "text/plain": [
       "         x4        x10        x13        x15       x25        x28        x29  \\\n",
       "0 -0.685219  -1.218774  -8.340786 -19.878081  1.393315  10.645972  39.437740   \n",
       "1 -1.471850  11.472485  -3.618850   3.771034  3.486176  19.152437 -15.932574   \n",
       "2  2.280847  -7.524298  -2.399277  -0.142621 -5.280456   1.637226  79.157790   \n",
       "3 -1.574199   4.294059  -1.973822  -1.235130  3.182062  11.344922  -8.075377   \n",
       "4 -5.179910   3.363839 -11.043239   1.555816 -1.818470  -3.623773  23.272083   \n",
       "\n",
       "        x32        x35       x36  ...  x21_Jan  x21_Nov  x80_2018.0  \\\n",
       "0 -1.281665  11.068075 -4.491661  ...        0        0           0   \n",
       "1 -3.589043 -10.201114  4.142225  ...        0        0           0   \n",
       "2  6.159096   3.699499  0.279251  ...        0        0           1   \n",
       "3  3.802819   8.813286 -1.388252  ...        0        0           0   \n",
       "4  2.528781 -11.867754 -0.554952  ...        0        0           1   \n",
       "\n",
       "   x93_2002.0  x93_2008.0  x93_2016.0  x108_SD  x108_SMA/SMK  \\\n",
       "0           0           0           0        0             0   \n",
       "1           0           0           0        1             0   \n",
       "2           0           0           0        0             0   \n",
       "3           0           0           0        0             1   \n",
       "4           0           0           0        0             0   \n",
       "\n",
       "   x108_Tidak sekolah  x112_Nov  \n",
       "0                   0         0  \n",
       "1                   0         0  \n",
       "2                   0         0  \n",
       "3                   0         0  \n",
       "4                   0         0  \n",
       "\n",
       "[5 rows x 46 columns]"
      ]
     },
     "execution_count": 51,
     "metadata": {},
     "output_type": "execute_result"
    }
   ],
   "source": [
    "X_gen.head()"
   ]
  },
  {
   "cell_type": "code",
   "execution_count": 52,
   "id": "partial-crown",
   "metadata": {},
   "outputs": [
    {
     "name": "stdout",
     "output_type": "stream",
     "text": [
      "(139836, 46)\n",
      "(139836,)\n"
     ]
    }
   ],
   "source": [
    "print(X_gen.shape)\n",
    "print(y_gen.shape)"
   ]
  },
  {
   "cell_type": "code",
   "execution_count": 53,
   "id": "female-memphis",
   "metadata": {},
   "outputs": [
    {
     "data": {
      "text/plain": [
       "((104877, 46), (34959, 46), (104877,), (34959,))"
      ]
     },
     "execution_count": 53,
     "metadata": {},
     "output_type": "execute_result"
    }
   ],
   "source": [
    "X_train, X_test, y_train, y_test = train_test_split(X_gen, y_gen, test_size=0.25, stratify=y_over, random_state=2)\n",
    "X_train.shape, X_test.shape, y_train.shape, y_test.shape"
   ]
  },
  {
   "cell_type": "code",
   "execution_count": 54,
   "id": "boring-tobago",
   "metadata": {},
   "outputs": [],
   "source": [
    "preprocessor = ColumnTransformer([\n",
    "('numeric', num_pipe(), X_train.columns.tolist())\n",
    "])"
   ]
  },
  {
   "cell_type": "code",
   "execution_count": 55,
   "id": "revised-ethnic",
   "metadata": {},
   "outputs": [],
   "source": [
    "pipeline = Pipeline([\n",
    "    ('prep', preprocessor),\n",
    "    ('algo', RandomForestClassifier(n_jobs=-1, random_state=42))\n",
    "])"
   ]
  },
  {
   "cell_type": "code",
   "execution_count": 56,
   "id": "bigger-iraqi",
   "metadata": {},
   "outputs": [
    {
     "name": "stdout",
     "output_type": "stream",
     "text": [
      "Fitting 3 folds for each of 30 candidates, totalling 90 fits\n",
      "{'algo__max_depth': 48, 'algo__max_features': 0.8219772826786358, 'algo__min_samples_leaf': 1, 'algo__n_estimators': 188}\n",
      "1.0 0.9661126843826578 0.9859835807660402\n",
      "Wall time: 38min 33s\n"
     ]
    }
   ],
   "source": [
    "%%time\n",
    "####  After Tuning with GeneticSelectionCV - Feature Selection - reducing modelling process time period\n",
    "####  Implement -- RANDOM SEARCH CV\n",
    "\n",
    "model = RandomizedSearchCV(pipeline, rsp.rf_params, cv=3, n_iter=30, n_jobs=-1, verbose=1, random_state=42)\n",
    "model.fit(X_train, y_train)\n",
    "\n",
    "print(model.best_params_)\n",
    "print(model.score(X_train, y_train), model.best_score_, model.score(X_test, y_test))\n"
   ]
  },
  {
   "cell_type": "code",
   "execution_count": 57,
   "id": "transsexual-devil",
   "metadata": {},
   "outputs": [
    {
     "name": "stdout",
     "output_type": "stream",
     "text": [
      "Train report\n",
      "              precision    recall  f1-score   support\n",
      "\n",
      "           0       1.00      1.00      1.00     52438\n",
      "           1       1.00      1.00      1.00     52439\n",
      "\n",
      "    accuracy                           1.00    104877\n",
      "   macro avg       1.00      1.00      1.00    104877\n",
      "weighted avg       1.00      1.00      1.00    104877\n",
      "\n",
      "\n",
      "Test report\n",
      "              precision    recall  f1-score   support\n",
      "\n",
      "           0       0.99      0.99      0.99     17480\n",
      "           1       0.99      0.99      0.99     17479\n",
      "\n",
      "    accuracy                           0.99     34959\n",
      "   macro avg       0.99      0.99      0.99     34959\n",
      "weighted avg       0.99      0.99      0.99     34959\n",
      "\n"
     ]
    }
   ],
   "source": [
    "plot_classification_report(X_train, y_train, X_test, y_test, model, report=True)"
   ]
  },
  {
   "cell_type": "code",
   "execution_count": 58,
   "id": "novel-efficiency",
   "metadata": {},
   "outputs": [
    {
     "data": {
      "image/png": "[encoded data removed]",
      "text/plain": [
       "<Figure size 792x360 with 2 Axes>"
      ]
     },
     "metadata": {
      "needs_background": "light"
     },
     "output_type": "display_data"
    }
   ],
   "source": [
    "plot_classification_report(X_train, y_train, X_test, y_test, model)"
   ]
  },
  {
   "cell_type": "code",
   "execution_count": 59,
   "id": "parliamentary-packet",
   "metadata": {},
   "outputs": [
    {
     "data": {
      "image/png": "[encoded data removed]",
      "text/plain": [
       "<Figure size 792x360 with 2 Axes>"
      ]
     },
     "metadata": {
      "needs_background": "light"
     },
     "output_type": "display_data"
    }
   ],
   "source": [
    "plot_confusion_matrix(X_train, y_train, X_test, y_test, model)"
   ]
  },
  {
   "cell_type": "code",
   "execution_count": 60,
   "id": "european-faith",
   "metadata": {},
   "outputs": [
    {
     "data": {
      "image/png": "[encoded data removed]",
      "text/plain": [
       "<Figure size 936x432 with 2 Axes>"
      ]
     },
     "metadata": {
      "needs_background": "light"
     },
     "output_type": "display_data"
    }
   ],
   "source": [
    "plot_roc_curve(X_train, y_train, X_test, y_test, model)"
   ]
  },
  {
   "cell_type": "code",
   "execution_count": 61,
   "id": "funny-texas",
   "metadata": {
    "scrolled": true
   },
   "outputs": [
    {
     "data": {
      "text/plain": [
       "RandomizedSearchCV(cv=3,\n",
       "                   estimator=Pipeline(steps=[('prep',\n",
       "                                              ColumnTransformer(transformers=[('numeric',\n",
       "                                                                               Pipeline(steps=[('imputer',\n",
       "                                                                                                SimpleImputer(strategy='median'))]),\n",
       "                                                                               ['x4',\n",
       "                                                                                'x10',\n",
       "                                                                                'x13',\n",
       "                                                                                'x15',\n",
       "                                                                                'x25',\n",
       "                                                                                'x28',\n",
       "                                                                                'x29',\n",
       "                                                                                'x32',\n",
       "                                                                                'x35',\n",
       "                                                                                'x36',\n",
       "                                                                                'x40',\n",
       "                                                                                'x46',\n",
       "                                                                                'x50',\n",
       "                                                                                'x53',\n",
       "                                                                                'x55',\n",
       "                                                                                'x59',\n",
       "                                                                                'x61',\n",
       "                                                                                'x62',\n",
       "                                                                                'x64',\n",
       "                                                                                'x66',\n",
       "                                                                                'x68',\n",
       "                                                                                'x73',\n",
       "                                                                                'x75',\n",
       "                                                                                'x78',\n",
       "                                                                                'x86',\n",
       "                                                                                'x91',\n",
       "                                                                                'x96',\n",
       "                                                                                'x99',\n",
       "                                                                                'x102',\n",
       "                                                                                'x103', ...])])),\n",
       "                                             ('algo',\n",
       "                                              RandomForestClassifier(n_jobs=-1,\n",
       "                                                                     random_state=42))]),\n",
       "                   n_iter=30, n_jobs=-1,\n",
       "                   param_distributions={'algo__max_depth': Integer(low=20, high=80),\n",
       "                                        'algo__max_features': Real(low=0.1, high=1, prior='uniform'),\n",
       "                                        'algo__min_samples_leaf': Integer(low=1, high=20),\n",
       "                                        'algo__n_estimators': Integer(low=100, high=200)},\n",
       "                   random_state=42, verbose=1)"
      ]
     },
     "execution_count": 61,
     "metadata": {},
     "output_type": "execute_result"
    }
   ],
   "source": [
    "model"
   ]
  },
  {
   "cell_type": "markdown",
   "id": "interstate-delta",
   "metadata": {},
   "source": [
    "## Result Evaluation"
   ]
  },
  {
   "cell_type": "markdown",
   "id": "hairy-basic",
   "metadata": {},
   "source": [
    "### Berdasarkan pemodelan yang telah dilakukan, berikut output summary yang dihasilkan:\n",
    "\n",
    "#### Metode Pemodelan: Random Forest\n",
    "#### ROC-AUC\n",
    "#### Train dataset = 1.000   |  Test dataset: 0.993\n",
    "#### Total waktu pengolahan: 2h 27min 13s\n",
    "#                             \n",
    "#### Tuning: GeneticSelectionCV\n",
    "#### Feature selection menghasilkan 50 parameter yang dinilai memiliki kontribusi terbaik terhadap model yang dihasilkan\n",
    "#### Metode Pemodelan: Random Forest\n",
    "#### ROC-AUC\n",
    "#### Train dataset = 1.000   |  Test dataset: 0.994\n",
    "#### Total waktu pengolahan: 38min 33s"
   ]
  },
  {
   "cell_type": "markdown",
   "id": "overall-productivity",
   "metadata": {},
   "source": [
    "## Implementasi model terhadap data test: findata_challenge_test.csv"
   ]
  },
  {
   "cell_type": "code",
   "execution_count": 62,
   "id": "silver-addition",
   "metadata": {},
   "outputs": [],
   "source": [
    "### Import Data test\n",
    "\n",
    "test = pd.read_csv('findata_challenge_test.csv')"
   ]
  },
  {
   "cell_type": "code",
   "execution_count": 63,
   "id": "adopted-underground",
   "metadata": {},
   "outputs": [
    {
     "data": {
      "text/html": [
       "<div>\n",
       "<style scoped>\n",
       "    .dataframe tbody tr th:only-of-type {\n",
       "        vertical-align: middle;\n",
       "    }\n",
       "\n",
       "    .dataframe tbody tr th {\n",
       "        vertical-align: top;\n",
       "    }\n",
       "\n",
       "    .dataframe thead th {\n",
       "        text-align: right;\n",
       "    }\n",
       "</style>\n",
       "<table border=\"1\" class=\"dataframe\">\n",
       "  <thead>\n",
       "    <tr style=\"text-align: right;\">\n",
       "      <th></th>\n",
       "      <th>x0</th>\n",
       "      <th>x1</th>\n",
       "      <th>x2</th>\n",
       "      <th>x3</th>\n",
       "      <th>x4</th>\n",
       "      <th>x5</th>\n",
       "      <th>x6</th>\n",
       "      <th>x7</th>\n",
       "      <th>x8</th>\n",
       "      <th>x9</th>\n",
       "      <th>...</th>\n",
       "      <th>x115</th>\n",
       "      <th>x116</th>\n",
       "      <th>x117</th>\n",
       "      <th>x118</th>\n",
       "      <th>x119</th>\n",
       "      <th>x120</th>\n",
       "      <th>x121</th>\n",
       "      <th>x122</th>\n",
       "      <th>x123</th>\n",
       "      <th>x124</th>\n",
       "    </tr>\n",
       "  </thead>\n",
       "  <tbody>\n",
       "    <tr>\n",
       "      <th>0</th>\n",
       "      <td>0.403735</td>\n",
       "      <td>-1.966104</td>\n",
       "      <td>-1.322339</td>\n",
       "      <td>0.084642</td>\n",
       "      <td>2.481997</td>\n",
       "      <td>-1.719155</td>\n",
       "      <td>5.0</td>\n",
       "      <td>2.0</td>\n",
       "      <td>-11.546670</td>\n",
       "      <td>-7.073770</td>\n",
       "      <td>...</td>\n",
       "      <td>3.580278</td>\n",
       "      <td>-7.765934</td>\n",
       "      <td>59.0</td>\n",
       "      <td>1.0</td>\n",
       "      <td>-9.897690</td>\n",
       "      <td>5.694125</td>\n",
       "      <td>-6.734618</td>\n",
       "      <td>17.052251</td>\n",
       "      <td>3.601040</td>\n",
       "      <td>2.873498</td>\n",
       "    </tr>\n",
       "    <tr>\n",
       "      <th>1</th>\n",
       "      <td>0.032128</td>\n",
       "      <td>6.516294</td>\n",
       "      <td>-0.939752</td>\n",
       "      <td>0.026937</td>\n",
       "      <td>-0.992999</td>\n",
       "      <td>5.995462</td>\n",
       "      <td>4.0</td>\n",
       "      <td>3.0</td>\n",
       "      <td>-5.634876</td>\n",
       "      <td>1.937998</td>\n",
       "      <td>...</td>\n",
       "      <td>5.783655</td>\n",
       "      <td>15.667015</td>\n",
       "      <td>47.0</td>\n",
       "      <td>1.0</td>\n",
       "      <td>7.781887</td>\n",
       "      <td>9.752716</td>\n",
       "      <td>5.918369</td>\n",
       "      <td>15.922908</td>\n",
       "      <td>5.460557</td>\n",
       "      <td>10.475816</td>\n",
       "    </tr>\n",
       "    <tr>\n",
       "      <th>2</th>\n",
       "      <td>-0.280345</td>\n",
       "      <td>0.930291</td>\n",
       "      <td>-1.028828</td>\n",
       "      <td>-0.050924</td>\n",
       "      <td>-3.164733</td>\n",
       "      <td>6.885108</td>\n",
       "      <td>3.0</td>\n",
       "      <td>2.0</td>\n",
       "      <td>1.609005</td>\n",
       "      <td>-1.812488</td>\n",
       "      <td>...</td>\n",
       "      <td>-0.389116</td>\n",
       "      <td>8.523648</td>\n",
       "      <td>55.0</td>\n",
       "      <td>0.0</td>\n",
       "      <td>6.815214</td>\n",
       "      <td>-3.325532</td>\n",
       "      <td>4.123546</td>\n",
       "      <td>-19.656038</td>\n",
       "      <td>8.380318</td>\n",
       "      <td>-1.203315</td>\n",
       "    </tr>\n",
       "    <tr>\n",
       "      <th>3</th>\n",
       "      <td>-0.313420</td>\n",
       "      <td>-0.568857</td>\n",
       "      <td>-1.576051</td>\n",
       "      <td>-0.003607</td>\n",
       "      <td>5.539969</td>\n",
       "      <td>-1.594770</td>\n",
       "      <td>4.0</td>\n",
       "      <td>3.0</td>\n",
       "      <td>-11.517734</td>\n",
       "      <td>-5.364282</td>\n",
       "      <td>...</td>\n",
       "      <td>3.930974</td>\n",
       "      <td>-13.912115</td>\n",
       "      <td>41.0</td>\n",
       "      <td>0.0</td>\n",
       "      <td>3.158137</td>\n",
       "      <td>-7.088875</td>\n",
       "      <td>-3.035983</td>\n",
       "      <td>34.277048</td>\n",
       "      <td>-3.169203</td>\n",
       "      <td>1.417681</td>\n",
       "    </tr>\n",
       "    <tr>\n",
       "      <th>4</th>\n",
       "      <td>0.108825</td>\n",
       "      <td>-4.815631</td>\n",
       "      <td>5.491084</td>\n",
       "      <td>-0.123928</td>\n",
       "      <td>-1.932024</td>\n",
       "      <td>4.014821</td>\n",
       "      <td>5.0</td>\n",
       "      <td>3.0</td>\n",
       "      <td>-3.117576</td>\n",
       "      <td>2.004889</td>\n",
       "      <td>...</td>\n",
       "      <td>-4.056091</td>\n",
       "      <td>-14.432712</td>\n",
       "      <td>52.0</td>\n",
       "      <td>0.0</td>\n",
       "      <td>-3.867657</td>\n",
       "      <td>-13.308519</td>\n",
       "      <td>1.008302</td>\n",
       "      <td>41.449381</td>\n",
       "      <td>-0.804560</td>\n",
       "      <td>-0.649453</td>\n",
       "    </tr>\n",
       "  </tbody>\n",
       "</table>\n",
       "<p>5 rows × 125 columns</p>\n",
       "</div>"
      ],
      "text/plain": [
       "         x0        x1        x2        x3        x4        x5   x6   x7  \\\n",
       "0  0.403735 -1.966104 -1.322339  0.084642  2.481997 -1.719155  5.0  2.0   \n",
       "1  0.032128  6.516294 -0.939752  0.026937 -0.992999  5.995462  4.0  3.0   \n",
       "2 -0.280345  0.930291 -1.028828 -0.050924 -3.164733  6.885108  3.0  2.0   \n",
       "3 -0.313420 -0.568857 -1.576051 -0.003607  5.539969 -1.594770  4.0  3.0   \n",
       "4  0.108825 -4.815631  5.491084 -0.123928 -1.932024  4.014821  5.0  3.0   \n",
       "\n",
       "          x8        x9  ...      x115       x116  x117  x118      x119  \\\n",
       "0 -11.546670 -7.073770  ...  3.580278  -7.765934  59.0   1.0 -9.897690   \n",
       "1  -5.634876  1.937998  ...  5.783655  15.667015  47.0   1.0  7.781887   \n",
       "2   1.609005 -1.812488  ... -0.389116   8.523648  55.0   0.0  6.815214   \n",
       "3 -11.517734 -5.364282  ...  3.930974 -13.912115  41.0   0.0  3.158137   \n",
       "4  -3.117576  2.004889  ... -4.056091 -14.432712  52.0   0.0 -3.867657   \n",
       "\n",
       "        x120      x121       x122      x123       x124  \n",
       "0   5.694125 -6.734618  17.052251  3.601040   2.873498  \n",
       "1   9.752716  5.918369  15.922908  5.460557  10.475816  \n",
       "2  -3.325532  4.123546 -19.656038  8.380318  -1.203315  \n",
       "3  -7.088875 -3.035983  34.277048 -3.169203   1.417681  \n",
       "4 -13.308519  1.008302  41.449381 -0.804560  -0.649453  \n",
       "\n",
       "[5 rows x 125 columns]"
      ]
     },
     "execution_count": 63,
     "metadata": {},
     "output_type": "execute_result"
    }
   ],
   "source": [
    "test.head()"
   ]
  },
  {
   "cell_type": "code",
   "execution_count": 64,
   "id": "behavioral-tamil",
   "metadata": {},
   "outputs": [
    {
     "data": {
      "text/plain": [
       "(25000, 125)"
      ]
     },
     "execution_count": 64,
     "metadata": {},
     "output_type": "execute_result"
    }
   ],
   "source": [
    "test.shape"
   ]
  },
  {
   "cell_type": "code",
   "execution_count": 65,
   "id": "democratic-response",
   "metadata": {},
   "outputs": [],
   "source": [
    "test2 = test.drop(['x89'], axis=1)"
   ]
  },
  {
   "cell_type": "code",
   "execution_count": 66,
   "id": "racial-affiliate",
   "metadata": {},
   "outputs": [],
   "source": [
    "test2['x80'] = test2['x80'].astype(str)\n",
    "test2['x93'] = test2['x93'].astype(str)"
   ]
  },
  {
   "cell_type": "code",
   "execution_count": 67,
   "id": "prompt-crisis",
   "metadata": {},
   "outputs": [
    {
     "data": {
      "text/html": [
       "<div>\n",
       "<style scoped>\n",
       "    .dataframe tbody tr th:only-of-type {\n",
       "        vertical-align: middle;\n",
       "    }\n",
       "\n",
       "    .dataframe tbody tr th {\n",
       "        vertical-align: top;\n",
       "    }\n",
       "\n",
       "    .dataframe thead th {\n",
       "        text-align: right;\n",
       "    }\n",
       "</style>\n",
       "<table border=\"1\" class=\"dataframe\">\n",
       "  <thead>\n",
       "    <tr style=\"text-align: right;\">\n",
       "      <th></th>\n",
       "      <th>x0</th>\n",
       "      <th>x1</th>\n",
       "      <th>x2</th>\n",
       "      <th>x3</th>\n",
       "      <th>x4</th>\n",
       "      <th>x5</th>\n",
       "      <th>x6</th>\n",
       "      <th>x7</th>\n",
       "      <th>x8</th>\n",
       "      <th>x9</th>\n",
       "      <th>...</th>\n",
       "      <th>x112_Aug</th>\n",
       "      <th>x112_Dec</th>\n",
       "      <th>x112_Feb</th>\n",
       "      <th>x112_Jul</th>\n",
       "      <th>x112_Jun</th>\n",
       "      <th>x112_Mar</th>\n",
       "      <th>x112_May</th>\n",
       "      <th>x112_Nov</th>\n",
       "      <th>x112_Oct</th>\n",
       "      <th>x112_Sep</th>\n",
       "    </tr>\n",
       "  </thead>\n",
       "  <tbody>\n",
       "    <tr>\n",
       "      <th>0</th>\n",
       "      <td>0.403735</td>\n",
       "      <td>-1.966104</td>\n",
       "      <td>-1.322339</td>\n",
       "      <td>0.084642</td>\n",
       "      <td>2.481997</td>\n",
       "      <td>-1.719155</td>\n",
       "      <td>5.0</td>\n",
       "      <td>2.0</td>\n",
       "      <td>-11.546670</td>\n",
       "      <td>-7.073770</td>\n",
       "      <td>...</td>\n",
       "      <td>1</td>\n",
       "      <td>0</td>\n",
       "      <td>0</td>\n",
       "      <td>0</td>\n",
       "      <td>0</td>\n",
       "      <td>0</td>\n",
       "      <td>0</td>\n",
       "      <td>0</td>\n",
       "      <td>0</td>\n",
       "      <td>0</td>\n",
       "    </tr>\n",
       "    <tr>\n",
       "      <th>1</th>\n",
       "      <td>0.032128</td>\n",
       "      <td>6.516294</td>\n",
       "      <td>-0.939752</td>\n",
       "      <td>0.026937</td>\n",
       "      <td>-0.992999</td>\n",
       "      <td>5.995462</td>\n",
       "      <td>4.0</td>\n",
       "      <td>3.0</td>\n",
       "      <td>-5.634876</td>\n",
       "      <td>1.937998</td>\n",
       "      <td>...</td>\n",
       "      <td>0</td>\n",
       "      <td>0</td>\n",
       "      <td>0</td>\n",
       "      <td>0</td>\n",
       "      <td>0</td>\n",
       "      <td>0</td>\n",
       "      <td>0</td>\n",
       "      <td>0</td>\n",
       "      <td>0</td>\n",
       "      <td>1</td>\n",
       "    </tr>\n",
       "    <tr>\n",
       "      <th>2</th>\n",
       "      <td>-0.280345</td>\n",
       "      <td>0.930291</td>\n",
       "      <td>-1.028828</td>\n",
       "      <td>-0.050924</td>\n",
       "      <td>-3.164733</td>\n",
       "      <td>6.885108</td>\n",
       "      <td>3.0</td>\n",
       "      <td>2.0</td>\n",
       "      <td>1.609005</td>\n",
       "      <td>-1.812488</td>\n",
       "      <td>...</td>\n",
       "      <td>1</td>\n",
       "      <td>0</td>\n",
       "      <td>0</td>\n",
       "      <td>0</td>\n",
       "      <td>0</td>\n",
       "      <td>0</td>\n",
       "      <td>0</td>\n",
       "      <td>0</td>\n",
       "      <td>0</td>\n",
       "      <td>0</td>\n",
       "    </tr>\n",
       "    <tr>\n",
       "      <th>3</th>\n",
       "      <td>-0.313420</td>\n",
       "      <td>-0.568857</td>\n",
       "      <td>-1.576051</td>\n",
       "      <td>-0.003607</td>\n",
       "      <td>5.539969</td>\n",
       "      <td>-1.594770</td>\n",
       "      <td>4.0</td>\n",
       "      <td>3.0</td>\n",
       "      <td>-11.517734</td>\n",
       "      <td>-5.364282</td>\n",
       "      <td>...</td>\n",
       "      <td>0</td>\n",
       "      <td>0</td>\n",
       "      <td>0</td>\n",
       "      <td>0</td>\n",
       "      <td>1</td>\n",
       "      <td>0</td>\n",
       "      <td>0</td>\n",
       "      <td>0</td>\n",
       "      <td>0</td>\n",
       "      <td>0</td>\n",
       "    </tr>\n",
       "    <tr>\n",
       "      <th>4</th>\n",
       "      <td>0.108825</td>\n",
       "      <td>-4.815631</td>\n",
       "      <td>5.491084</td>\n",
       "      <td>-0.123928</td>\n",
       "      <td>-1.932024</td>\n",
       "      <td>4.014821</td>\n",
       "      <td>5.0</td>\n",
       "      <td>3.0</td>\n",
       "      <td>-3.117576</td>\n",
       "      <td>2.004889</td>\n",
       "      <td>...</td>\n",
       "      <td>0</td>\n",
       "      <td>0</td>\n",
       "      <td>0</td>\n",
       "      <td>0</td>\n",
       "      <td>0</td>\n",
       "      <td>0</td>\n",
       "      <td>1</td>\n",
       "      <td>0</td>\n",
       "      <td>0</td>\n",
       "      <td>0</td>\n",
       "    </tr>\n",
       "  </tbody>\n",
       "</table>\n",
       "<p>5 rows × 177 columns</p>\n",
       "</div>"
      ],
      "text/plain": [
       "         x0        x1        x2        x3        x4        x5   x6   x7  \\\n",
       "0  0.403735 -1.966104 -1.322339  0.084642  2.481997 -1.719155  5.0  2.0   \n",
       "1  0.032128  6.516294 -0.939752  0.026937 -0.992999  5.995462  4.0  3.0   \n",
       "2 -0.280345  0.930291 -1.028828 -0.050924 -3.164733  6.885108  3.0  2.0   \n",
       "3 -0.313420 -0.568857 -1.576051 -0.003607  5.539969 -1.594770  4.0  3.0   \n",
       "4  0.108825 -4.815631  5.491084 -0.123928 -1.932024  4.014821  5.0  3.0   \n",
       "\n",
       "          x8        x9  ...  x112_Aug  x112_Dec  x112_Feb  x112_Jul  x112_Jun  \\\n",
       "0 -11.546670 -7.073770  ...         1         0         0         0         0   \n",
       "1  -5.634876  1.937998  ...         0         0         0         0         0   \n",
       "2   1.609005 -1.812488  ...         1         0         0         0         0   \n",
       "3 -11.517734 -5.364282  ...         0         0         0         0         1   \n",
       "4  -3.117576  2.004889  ...         0         0         0         0         0   \n",
       "\n",
       "   x112_Mar  x112_May  x112_Nov  x112_Oct  x112_Sep  \n",
       "0         0         0         0         0         0  \n",
       "1         0         0         0         0         1  \n",
       "2         0         0         0         0         0  \n",
       "3         0         0         0         0         0  \n",
       "4         0         1         0         0         0  \n",
       "\n",
       "[5 rows x 177 columns]"
      ]
     },
     "execution_count": 67,
     "metadata": {},
     "output_type": "execute_result"
    }
   ],
   "source": [
    "test_dum = pd.get_dummies(test2)\n",
    "test_dum.head()"
   ]
  },
  {
   "cell_type": "code",
   "execution_count": 68,
   "id": "joined-container",
   "metadata": {},
   "outputs": [
    {
     "data": {
      "text/plain": [
       "(25000, 177)"
      ]
     },
     "execution_count": 68,
     "metadata": {},
     "output_type": "execute_result"
    }
   ],
   "source": [
    "test_dum.shape"
   ]
  },
  {
   "cell_type": "code",
   "execution_count": 69,
   "id": "private-boards",
   "metadata": {},
   "outputs": [
    {
     "name": "stdout",
     "output_type": "stream",
     "text": [
      "['x0', 'x1', 'x2', 'x3', 'x4', 'x5', 'x6', 'x7', 'x8', 'x9', 'x10', 'x11', 'x12', 'x13', 'x14', 'x15', 'x16', 'x17', 'x18', 'x19', 'x20', 'x22', 'x23', 'x24', 'x25', 'x26', 'x27', 'x28', 'x29', 'x30', 'x31', 'x32', 'x33', 'x34', 'x35', 'x36', 'x37', 'x38', 'x39', 'x40', 'x41', 'x42', 'x43', 'x44', 'x45', 'x46', 'x47', 'x48', 'x49', 'x50', 'x51', 'x52', 'x53', 'x54', 'x55', 'x56', 'x57', 'x58', 'x59', 'x60', 'x61', 'x62', 'x63', 'x64', 'x65', 'x66', 'x67', 'x68', 'x69', 'x70', 'x71', 'x72', 'x73', 'x74', 'x75', 'x76', 'x77', 'x78', 'x81', 'x82', 'x83', 'x84', 'x85', 'x86', 'x87', 'x88', 'x90', 'x91', 'x92', 'x94', 'x95', 'x96', 'x97', 'x98', 'x99', 'x100', 'x101', 'x102', 'x103', 'x104', 'x105', 'x106', 'x107', 'x109', 'x110', 'x111', 'x113', 'x114', 'x115', 'x116', 'x117', 'x118', 'x119', 'x120', 'x121', 'x122', 'x123', 'x124', 'x21_Apr', 'x21_Aug', 'x21_Dec', 'x21_Feb', 'x21_Jan', 'x21_Jul', 'x21_Jun', 'x21_Mar', 'x21_May', 'x21_Nov', 'x21_Oct', 'x21_Sep', 'x79_Laki-laki', 'x79_Perempuan', 'x80_2015.0', 'x80_2016.0', 'x80_2017.0', 'x80_2018.0', 'x80_2019.0', 'x80_2020.0', 'x80_2021.0', 'x80_nan', 'x93_2001.0', 'x93_2002.0', 'x93_2003.0', 'x93_2004.0', 'x93_2005.0', 'x93_2006.0', 'x93_2007.0', 'x93_2008.0', 'x93_2009.0', 'x93_2010.0', 'x93_2011.0', 'x93_2012.0', 'x93_2013.0', 'x93_2014.0', 'x93_2015.0', 'x93_2016.0', 'x93_2017.0', 'x93_2018.0', 'x93_2019.0', 'x93_2020.0', 'x93_nan', 'x108_S1/S2/S3', 'x108_SD', 'x108_SMA/SMK', 'x108_SMP', 'x108_Tidak sekolah', 'x112_Apr', 'x112_Aug', 'x112_Dec', 'x112_Feb', 'x112_Jul', 'x112_Jun', 'x112_Mar', 'x112_May', 'x112_Nov', 'x112_Oct', 'x112_Sep']\n"
     ]
    }
   ],
   "source": [
    "print(test_dum.columns.tolist())"
   ]
  },
  {
   "cell_type": "code",
   "execution_count": 70,
   "id": "every-affair",
   "metadata": {
    "scrolled": false
   },
   "outputs": [
    {
     "name": "stdout",
     "output_type": "stream",
     "text": [
      "['x4', 'x10', 'x13', 'x15', 'x25', 'x28', 'x29', 'x32', 'x35', 'x36', 'x40', 'x46', 'x50', 'x53', 'x55', 'x59', 'x61', 'x62', 'x64', 'x66', 'x68', 'x73', 'x75', 'x78', 'x86', 'x91', 'x96', 'x99', 'x102', 'x103', 'x106', 'x109', 'x119', 'x122', 'x123', 'x21_Dec', 'x21_Jan', 'x21_Nov', 'x80_2018.0', 'x93_2002.0', 'x93_2008.0', 'x93_2016.0', 'x108_SD', 'x108_SMA/SMK', 'x108_Tidak sekolah', 'x112_Nov']\n"
     ]
    }
   ],
   "source": [
    "print(X_train.columns.tolist())"
   ]
  },
  {
   "cell_type": "code",
   "execution_count": 71,
   "id": "disabled-december",
   "metadata": {},
   "outputs": [],
   "source": [
    "test_dum2 = test_dum[X_train.columns.tolist()]"
   ]
  },
  {
   "cell_type": "code",
   "execution_count": 72,
   "id": "independent-overall",
   "metadata": {},
   "outputs": [],
   "source": [
    "test_res = model.predict(test_dum2)"
   ]
  },
  {
   "cell_type": "code",
   "execution_count": 73,
   "id": "defined-programming",
   "metadata": {},
   "outputs": [],
   "source": [
    "test_result = pd.DataFrame(test_res, columns = ['Predicted'])"
   ]
  },
  {
   "cell_type": "code",
   "execution_count": 74,
   "id": "handmade-replication",
   "metadata": {},
   "outputs": [
    {
     "data": {
      "text/plain": [
       "(25000, 1)"
      ]
     },
     "execution_count": 74,
     "metadata": {},
     "output_type": "execute_result"
    }
   ],
   "source": [
    "test_result.shape"
   ]
  },
  {
   "cell_type": "code",
   "execution_count": 75,
   "id": "usual-irrigation",
   "metadata": {},
   "outputs": [],
   "source": [
    "test_result.index.name = 'Id'"
   ]
  },
  {
   "cell_type": "code",
   "execution_count": 76,
   "id": "loved-packaging",
   "metadata": {},
   "outputs": [
    {
     "data": {
      "text/html": [
       "<div>\n",
       "<style scoped>\n",
       "    .dataframe tbody tr th:only-of-type {\n",
       "        vertical-align: middle;\n",
       "    }\n",
       "\n",
       "    .dataframe tbody tr th {\n",
       "        vertical-align: top;\n",
       "    }\n",
       "\n",
       "    .dataframe thead th {\n",
       "        text-align: right;\n",
       "    }\n",
       "</style>\n",
       "<table border=\"1\" class=\"dataframe\">\n",
       "  <thead>\n",
       "    <tr style=\"text-align: right;\">\n",
       "      <th></th>\n",
       "      <th>Predicted</th>\n",
       "    </tr>\n",
       "    <tr>\n",
       "      <th>Id</th>\n",
       "      <th></th>\n",
       "    </tr>\n",
       "  </thead>\n",
       "  <tbody>\n",
       "    <tr>\n",
       "      <th>0</th>\n",
       "      <td>0</td>\n",
       "    </tr>\n",
       "    <tr>\n",
       "      <th>1</th>\n",
       "      <td>0</td>\n",
       "    </tr>\n",
       "    <tr>\n",
       "      <th>2</th>\n",
       "      <td>0</td>\n",
       "    </tr>\n",
       "    <tr>\n",
       "      <th>3</th>\n",
       "      <td>0</td>\n",
       "    </tr>\n",
       "    <tr>\n",
       "      <th>4</th>\n",
       "      <td>0</td>\n",
       "    </tr>\n",
       "  </tbody>\n",
       "</table>\n",
       "</div>"
      ],
      "text/plain": [
       "    Predicted\n",
       "Id           \n",
       "0           0\n",
       "1           0\n",
       "2           0\n",
       "3           0\n",
       "4           0"
      ]
     },
     "execution_count": 76,
     "metadata": {},
     "output_type": "execute_result"
    }
   ],
   "source": [
    "test_result.head()"
   ]
  },
  {
   "cell_type": "code",
   "execution_count": 77,
   "id": "standing-groove",
   "metadata": {},
   "outputs": [],
   "source": [
    "test_result.to_csv('Andriyan_saputra-submission.csv')"
   ]
  },
  {
   "cell_type": "code",
   "execution_count": null,
   "id": "developmental-australian",
   "metadata": {},
   "outputs": [],
   "source": []
  },
  {
   "cell_type": "code",
   "execution_count": null,
   "id": "dependent-syndicate",
   "metadata": {},
   "outputs": [],
   "source": []
  }
 ],
 "metadata": {
  "kernelspec": {
   "display_name": "Python 3",
   "language": "python",
   "name": "python3"
  },
  "language_info": {
   "codemirror_mode": {
    "name": "ipython",
    "version": 3
   },
   "file_extension": ".py",
   "mimetype": "text/x-python",
   "name": "python",
   "nbconvert_exporter": "python",
   "pygments_lexer": "ipython3",
   "version": "3.7.6"
  },
  "varInspector": {
   "cols": {
    "lenName": 16,
    "lenType": 16,
    "lenVar": 40
   },
   "kernels_config": {
    "python": {
     "delete_cmd_postfix": "",
     "delete_cmd_prefix": "del ",
     "library": "var_list.py",
     "varRefreshCmd": "print(var_dic_list())"
    },
    "r": {
     "delete_cmd_postfix": ") ",
     "delete_cmd_prefix": "rm(",
     "library": "var_list.r",
     "varRefreshCmd": "cat(var_dic_list()) "
    }
   },
   "types_to_exclude": [
    "module",
    "function",
    "builtin_function_or_method",
    "instance",
    "_Feature"
   ],
   "window_display": false
  }
 },
 "nbformat": 4,
 "nbformat_minor": 5
}
